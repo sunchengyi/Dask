{
 "cells": [
  {
   "cell_type": "markdown",
   "metadata": {},
   "source": [
    "# Data Science with Python and Dask"
   ]
  },
  {
   "cell_type": "code",
   "execution_count": 5,
   "metadata": {},
   "outputs": [
    {
     "name": "stderr",
     "output_type": "stream",
     "text": [
      "/Library/Frameworks/Python.framework/Versions/3.6/lib/python3.6/site-packages/statsmodels/tools/_testing.py:19: FutureWarning: pandas.util.testing is deprecated. Use the functions in the public API at pandas.testing instead.\n",
      "  import pandas.util.testing as tm\n"
     ]
    }
   ],
   "source": [
    "from datetime import datetime\n",
    "\n",
    "import dask.dataframe as dd\n",
    "from dask.diagnostics import ProgressBar\n",
    "import dask.delayed as delayed\n",
    "import pyarrow\n",
    "\n",
    "from matplotlib import pyplot as plt\n",
    "import numpy as np\n",
    "import pandas as pd\n",
    "import seaborn\n",
    "import os\n",
    "\n",
    "from IPython.core.interactiveshell import InteractiveShell\n",
    "InteractiveShell.ast_node_interactivity = 'all'"
   ]
  },
  {
   "cell_type": "markdown",
   "metadata": {},
   "source": [
    "# Chapter 2 Introducing Dask"
   ]
  },
  {
   "cell_type": "code",
   "execution_count": 2,
   "metadata": {},
   "outputs": [],
   "source": [
    "df = dd.read_csv('nyc-parking-tickets/*2017.csv')"
   ]
  },
  {
   "cell_type": "code",
   "execution_count": 3,
   "metadata": {},
   "outputs": [
    {
     "data": {
      "text/html": [
       "<div><strong>Dask DataFrame Structure:</strong></div>\n",
       "<div>\n",
       "<style scoped>\n",
       "    .dataframe tbody tr th:only-of-type {\n",
       "        vertical-align: middle;\n",
       "    }\n",
       "\n",
       "    .dataframe tbody tr th {\n",
       "        vertical-align: top;\n",
       "    }\n",
       "\n",
       "    .dataframe thead th {\n",
       "        text-align: right;\n",
       "    }\n",
       "</style>\n",
       "<table border=\"1\" class=\"dataframe\">\n",
       "  <thead>\n",
       "    <tr style=\"text-align: right;\">\n",
       "      <th></th>\n",
       "      <th>Summons Number</th>\n",
       "      <th>Plate ID</th>\n",
       "      <th>Registration State</th>\n",
       "      <th>Plate Type</th>\n",
       "      <th>Issue Date</th>\n",
       "      <th>Violation Code</th>\n",
       "      <th>Vehicle Body Type</th>\n",
       "      <th>Vehicle Make</th>\n",
       "      <th>Issuing Agency</th>\n",
       "      <th>Street Code1</th>\n",
       "      <th>Street Code2</th>\n",
       "      <th>Street Code3</th>\n",
       "      <th>Vehicle Expiration Date</th>\n",
       "      <th>Violation Location</th>\n",
       "      <th>Violation Precinct</th>\n",
       "      <th>Issuer Precinct</th>\n",
       "      <th>Issuer Code</th>\n",
       "      <th>Issuer Command</th>\n",
       "      <th>Issuer Squad</th>\n",
       "      <th>Violation Time</th>\n",
       "      <th>Time First Observed</th>\n",
       "      <th>Violation County</th>\n",
       "      <th>Violation In Front Of Or Opposite</th>\n",
       "      <th>House Number</th>\n",
       "      <th>Street Name</th>\n",
       "      <th>Intersecting Street</th>\n",
       "      <th>Date First Observed</th>\n",
       "      <th>Law Section</th>\n",
       "      <th>Sub Division</th>\n",
       "      <th>Violation Legal Code</th>\n",
       "      <th>Days Parking In Effect</th>\n",
       "      <th>From Hours In Effect</th>\n",
       "      <th>To Hours In Effect</th>\n",
       "      <th>Vehicle Color</th>\n",
       "      <th>Unregistered Vehicle?</th>\n",
       "      <th>Vehicle Year</th>\n",
       "      <th>Meter Number</th>\n",
       "      <th>Feet From Curb</th>\n",
       "      <th>Violation Post Code</th>\n",
       "      <th>Violation Description</th>\n",
       "      <th>No Standing or Stopping Violation</th>\n",
       "      <th>Hydrant Violation</th>\n",
       "      <th>Double Parking Violation</th>\n",
       "    </tr>\n",
       "    <tr>\n",
       "      <th>npartitions=33</th>\n",
       "      <th></th>\n",
       "      <th></th>\n",
       "      <th></th>\n",
       "      <th></th>\n",
       "      <th></th>\n",
       "      <th></th>\n",
       "      <th></th>\n",
       "      <th></th>\n",
       "      <th></th>\n",
       "      <th></th>\n",
       "      <th></th>\n",
       "      <th></th>\n",
       "      <th></th>\n",
       "      <th></th>\n",
       "      <th></th>\n",
       "      <th></th>\n",
       "      <th></th>\n",
       "      <th></th>\n",
       "      <th></th>\n",
       "      <th></th>\n",
       "      <th></th>\n",
       "      <th></th>\n",
       "      <th></th>\n",
       "      <th></th>\n",
       "      <th></th>\n",
       "      <th></th>\n",
       "      <th></th>\n",
       "      <th></th>\n",
       "      <th></th>\n",
       "      <th></th>\n",
       "      <th></th>\n",
       "      <th></th>\n",
       "      <th></th>\n",
       "      <th></th>\n",
       "      <th></th>\n",
       "      <th></th>\n",
       "      <th></th>\n",
       "      <th></th>\n",
       "      <th></th>\n",
       "      <th></th>\n",
       "      <th></th>\n",
       "      <th></th>\n",
       "      <th></th>\n",
       "    </tr>\n",
       "  </thead>\n",
       "  <tbody>\n",
       "    <tr>\n",
       "      <th></th>\n",
       "      <td>int64</td>\n",
       "      <td>object</td>\n",
       "      <td>object</td>\n",
       "      <td>object</td>\n",
       "      <td>object</td>\n",
       "      <td>int64</td>\n",
       "      <td>object</td>\n",
       "      <td>object</td>\n",
       "      <td>object</td>\n",
       "      <td>int64</td>\n",
       "      <td>int64</td>\n",
       "      <td>int64</td>\n",
       "      <td>int64</td>\n",
       "      <td>float64</td>\n",
       "      <td>int64</td>\n",
       "      <td>int64</td>\n",
       "      <td>int64</td>\n",
       "      <td>object</td>\n",
       "      <td>object</td>\n",
       "      <td>object</td>\n",
       "      <td>object</td>\n",
       "      <td>object</td>\n",
       "      <td>object</td>\n",
       "      <td>object</td>\n",
       "      <td>object</td>\n",
       "      <td>object</td>\n",
       "      <td>int64</td>\n",
       "      <td>int64</td>\n",
       "      <td>object</td>\n",
       "      <td>object</td>\n",
       "      <td>object</td>\n",
       "      <td>object</td>\n",
       "      <td>object</td>\n",
       "      <td>object</td>\n",
       "      <td>float64</td>\n",
       "      <td>int64</td>\n",
       "      <td>object</td>\n",
       "      <td>int64</td>\n",
       "      <td>object</td>\n",
       "      <td>object</td>\n",
       "      <td>float64</td>\n",
       "      <td>float64</td>\n",
       "      <td>float64</td>\n",
       "    </tr>\n",
       "    <tr>\n",
       "      <th></th>\n",
       "      <td>...</td>\n",
       "      <td>...</td>\n",
       "      <td>...</td>\n",
       "      <td>...</td>\n",
       "      <td>...</td>\n",
       "      <td>...</td>\n",
       "      <td>...</td>\n",
       "      <td>...</td>\n",
       "      <td>...</td>\n",
       "      <td>...</td>\n",
       "      <td>...</td>\n",
       "      <td>...</td>\n",
       "      <td>...</td>\n",
       "      <td>...</td>\n",
       "      <td>...</td>\n",
       "      <td>...</td>\n",
       "      <td>...</td>\n",
       "      <td>...</td>\n",
       "      <td>...</td>\n",
       "      <td>...</td>\n",
       "      <td>...</td>\n",
       "      <td>...</td>\n",
       "      <td>...</td>\n",
       "      <td>...</td>\n",
       "      <td>...</td>\n",
       "      <td>...</td>\n",
       "      <td>...</td>\n",
       "      <td>...</td>\n",
       "      <td>...</td>\n",
       "      <td>...</td>\n",
       "      <td>...</td>\n",
       "      <td>...</td>\n",
       "      <td>...</td>\n",
       "      <td>...</td>\n",
       "      <td>...</td>\n",
       "      <td>...</td>\n",
       "      <td>...</td>\n",
       "      <td>...</td>\n",
       "      <td>...</td>\n",
       "      <td>...</td>\n",
       "      <td>...</td>\n",
       "      <td>...</td>\n",
       "      <td>...</td>\n",
       "    </tr>\n",
       "    <tr>\n",
       "      <th>...</th>\n",
       "      <td>...</td>\n",
       "      <td>...</td>\n",
       "      <td>...</td>\n",
       "      <td>...</td>\n",
       "      <td>...</td>\n",
       "      <td>...</td>\n",
       "      <td>...</td>\n",
       "      <td>...</td>\n",
       "      <td>...</td>\n",
       "      <td>...</td>\n",
       "      <td>...</td>\n",
       "      <td>...</td>\n",
       "      <td>...</td>\n",
       "      <td>...</td>\n",
       "      <td>...</td>\n",
       "      <td>...</td>\n",
       "      <td>...</td>\n",
       "      <td>...</td>\n",
       "      <td>...</td>\n",
       "      <td>...</td>\n",
       "      <td>...</td>\n",
       "      <td>...</td>\n",
       "      <td>...</td>\n",
       "      <td>...</td>\n",
       "      <td>...</td>\n",
       "      <td>...</td>\n",
       "      <td>...</td>\n",
       "      <td>...</td>\n",
       "      <td>...</td>\n",
       "      <td>...</td>\n",
       "      <td>...</td>\n",
       "      <td>...</td>\n",
       "      <td>...</td>\n",
       "      <td>...</td>\n",
       "      <td>...</td>\n",
       "      <td>...</td>\n",
       "      <td>...</td>\n",
       "      <td>...</td>\n",
       "      <td>...</td>\n",
       "      <td>...</td>\n",
       "      <td>...</td>\n",
       "      <td>...</td>\n",
       "      <td>...</td>\n",
       "    </tr>\n",
       "    <tr>\n",
       "      <th></th>\n",
       "      <td>...</td>\n",
       "      <td>...</td>\n",
       "      <td>...</td>\n",
       "      <td>...</td>\n",
       "      <td>...</td>\n",
       "      <td>...</td>\n",
       "      <td>...</td>\n",
       "      <td>...</td>\n",
       "      <td>...</td>\n",
       "      <td>...</td>\n",
       "      <td>...</td>\n",
       "      <td>...</td>\n",
       "      <td>...</td>\n",
       "      <td>...</td>\n",
       "      <td>...</td>\n",
       "      <td>...</td>\n",
       "      <td>...</td>\n",
       "      <td>...</td>\n",
       "      <td>...</td>\n",
       "      <td>...</td>\n",
       "      <td>...</td>\n",
       "      <td>...</td>\n",
       "      <td>...</td>\n",
       "      <td>...</td>\n",
       "      <td>...</td>\n",
       "      <td>...</td>\n",
       "      <td>...</td>\n",
       "      <td>...</td>\n",
       "      <td>...</td>\n",
       "      <td>...</td>\n",
       "      <td>...</td>\n",
       "      <td>...</td>\n",
       "      <td>...</td>\n",
       "      <td>...</td>\n",
       "      <td>...</td>\n",
       "      <td>...</td>\n",
       "      <td>...</td>\n",
       "      <td>...</td>\n",
       "      <td>...</td>\n",
       "      <td>...</td>\n",
       "      <td>...</td>\n",
       "      <td>...</td>\n",
       "      <td>...</td>\n",
       "    </tr>\n",
       "    <tr>\n",
       "      <th></th>\n",
       "      <td>...</td>\n",
       "      <td>...</td>\n",
       "      <td>...</td>\n",
       "      <td>...</td>\n",
       "      <td>...</td>\n",
       "      <td>...</td>\n",
       "      <td>...</td>\n",
       "      <td>...</td>\n",
       "      <td>...</td>\n",
       "      <td>...</td>\n",
       "      <td>...</td>\n",
       "      <td>...</td>\n",
       "      <td>...</td>\n",
       "      <td>...</td>\n",
       "      <td>...</td>\n",
       "      <td>...</td>\n",
       "      <td>...</td>\n",
       "      <td>...</td>\n",
       "      <td>...</td>\n",
       "      <td>...</td>\n",
       "      <td>...</td>\n",
       "      <td>...</td>\n",
       "      <td>...</td>\n",
       "      <td>...</td>\n",
       "      <td>...</td>\n",
       "      <td>...</td>\n",
       "      <td>...</td>\n",
       "      <td>...</td>\n",
       "      <td>...</td>\n",
       "      <td>...</td>\n",
       "      <td>...</td>\n",
       "      <td>...</td>\n",
       "      <td>...</td>\n",
       "      <td>...</td>\n",
       "      <td>...</td>\n",
       "      <td>...</td>\n",
       "      <td>...</td>\n",
       "      <td>...</td>\n",
       "      <td>...</td>\n",
       "      <td>...</td>\n",
       "      <td>...</td>\n",
       "      <td>...</td>\n",
       "      <td>...</td>\n",
       "    </tr>\n",
       "  </tbody>\n",
       "</table>\n",
       "</div>\n",
       "<div>Dask Name: read-csv, 33 tasks</div>"
      ],
      "text/plain": [
       "Dask DataFrame Structure:\n",
       "               Summons Number Plate ID Registration State Plate Type Issue Date Violation Code Vehicle Body Type Vehicle Make Issuing Agency Street Code1 Street Code2 Street Code3 Vehicle Expiration Date Violation Location Violation Precinct Issuer Precinct Issuer Code Issuer Command Issuer Squad Violation Time Time First Observed Violation County Violation In Front Of Or Opposite House Number Street Name Intersecting Street Date First Observed Law Section Sub Division Violation Legal Code Days Parking In Effect     From Hours In Effect To Hours In Effect Vehicle Color Unregistered Vehicle? Vehicle Year Meter Number Feet From Curb Violation Post Code Violation Description No Standing or Stopping Violation Hydrant Violation Double Parking Violation\n",
       "npartitions=33                                                                                                                                                                                                                                                                                                                                                                                                                                                                                                                                                                                                                                                                                                                                                                       \n",
       "                        int64   object             object     object     object          int64            object       object         object        int64        int64        int64                   int64            float64              int64           int64       int64         object       object         object              object           object                            object       object      object              object               int64       int64       object               object                     object               object             object        object               float64        int64       object          int64              object                object                           float64           float64                  float64\n",
       "                          ...      ...                ...        ...        ...            ...               ...          ...            ...          ...          ...          ...                     ...                ...                ...             ...         ...            ...          ...            ...                 ...              ...                               ...          ...         ...                 ...                 ...         ...          ...                  ...                        ...                  ...                ...           ...                   ...          ...          ...            ...                 ...                   ...                               ...               ...                      ...\n",
       "...                       ...      ...                ...        ...        ...            ...               ...          ...            ...          ...          ...          ...                     ...                ...                ...             ...         ...            ...          ...            ...                 ...              ...                               ...          ...         ...                 ...                 ...         ...          ...                  ...                        ...                  ...                ...           ...                   ...          ...          ...            ...                 ...                   ...                               ...               ...                      ...\n",
       "                          ...      ...                ...        ...        ...            ...               ...          ...            ...          ...          ...          ...                     ...                ...                ...             ...         ...            ...          ...            ...                 ...              ...                               ...          ...         ...                 ...                 ...         ...          ...                  ...                        ...                  ...                ...           ...                   ...          ...          ...            ...                 ...                   ...                               ...               ...                      ...\n",
       "                          ...      ...                ...        ...        ...            ...               ...          ...            ...          ...          ...          ...                     ...                ...                ...             ...         ...            ...          ...            ...                 ...              ...                               ...          ...         ...                 ...                 ...         ...          ...                  ...                        ...                  ...                ...           ...                   ...          ...          ...            ...                 ...                   ...                               ...               ...                      ...\n",
       "Dask Name: read-csv, 33 tasks"
      ]
     },
     "execution_count": 3,
     "metadata": {},
     "output_type": "execute_result"
    }
   ],
   "source": [
    "df"
   ]
  },
  {
   "cell_type": "markdown",
   "metadata": {},
   "source": [
    "## Counting the missing values"
   ]
  },
  {
   "cell_type": "code",
   "execution_count": 4,
   "metadata": {},
   "outputs": [
    {
     "data": {
      "text/plain": [
       "Dask Series Structure:\n",
       "npartitions=1\n",
       "Date First Observed    int64\n",
       "Violation Time           ...\n",
       "dtype: int64\n",
       "Dask Name: dataframe-sum-agg, 100 tasks"
      ]
     },
     "execution_count": 4,
     "metadata": {},
     "output_type": "execute_result"
    }
   ],
   "source": [
    "missing_values = df.isnull().sum()\n",
    "missing_values"
   ]
  },
  {
   "cell_type": "code",
   "execution_count": 5,
   "metadata": {},
   "outputs": [
    {
     "data": {
      "text/plain": [
       "Dask Series Structure:\n",
       "npartitions=1\n",
       "Date First Observed    float64\n",
       "Violation Time             ...\n",
       "dtype: float64\n",
       "Dask Name: mul, 169 tasks"
      ]
     },
     "execution_count": 5,
     "metadata": {},
     "output_type": "execute_result"
    }
   ],
   "source": [
    "missing_count = (missing_values/df.index.size)*100\n",
    "missing_count"
   ]
  },
  {
   "cell_type": "code",
   "execution_count": 7,
   "metadata": {
    "collapsed": true,
    "jupyter": {
     "outputs_hidden": true
    }
   },
   "outputs": [
    {
     "name": "stdout",
     "output_type": "stream",
     "text": [
      "[##################################      ] | 86% Completed | 51.5s"
     ]
    },
    {
     "name": "stderr",
     "output_type": "stream",
     "text": [
      "/Library/Frameworks/Python.framework/Versions/3.6/lib/python3.6/multiprocessing/pool.py:119: DtypeWarning: Columns (18,38) have mixed types.Specify dtype option on import or set low_memory=False.\n",
      "  result = (True, func(*args, **kwds))\n"
     ]
    },
    {
     "name": "stdout",
     "output_type": "stream",
     "text": [
      "[########################################] | 100% Completed | 54.1s\n"
     ]
    },
    {
     "data": {
      "text/plain": [
       "Summons Number                         0.000000\n",
       "Plate ID                               0.006739\n",
       "Registration State                     0.000000\n",
       "Plate Type                             0.000000\n",
       "Issue Date                             0.000000\n",
       "Violation Code                         0.000000\n",
       "Vehicle Body Type                      0.395361\n",
       "Vehicle Make                           0.676199\n",
       "Issuing Agency                         0.000000\n",
       "Street Code1                           0.000000\n",
       "Street Code2                           0.000000\n",
       "Street Code3                           0.000000\n",
       "Vehicle Expiration Date                0.000000\n",
       "Violation Location                    19.183510\n",
       "Violation Precinct                     0.000000\n",
       "Issuer Precinct                        0.000000\n",
       "Issuer Code                            0.000000\n",
       "Issuer Command                        19.093212\n",
       "Issuer Squad                          19.101506\n",
       "Violation Time                         0.000583\n",
       "Time First Observed                   92.217488\n",
       "Violation County                       0.366073\n",
       "Violation In Front Of Or Opposite     20.005826\n",
       "House Number                          21.184968\n",
       "Street Name                            0.037110\n",
       "Intersecting Street                   68.827675\n",
       "Date First Observed                    0.000000\n",
       "Law Section                            0.000000\n",
       "Sub Division                           0.007155\n",
       "Violation Legal Code                  80.906214\n",
       "Days Parking In Effect                25.107923\n",
       "From Hours In Effect                  50.457575\n",
       "To Hours In Effect                    50.457548\n",
       "Vehicle Color                          1.410179\n",
       "Unregistered Vehicle?                 89.562223\n",
       "Vehicle Year                           0.000000\n",
       "Meter Number                          83.472476\n",
       "Feet From Curb                         0.000000\n",
       "Violation Post Code                   29.530489\n",
       "Violation Description                 10.436611\n",
       "No Standing or Stopping Violation    100.000000\n",
       "Hydrant Violation                    100.000000\n",
       "Double Parking Violation             100.000000\n",
       "dtype: float64"
      ]
     },
     "execution_count": 7,
     "metadata": {},
     "output_type": "execute_result"
    }
   ],
   "source": [
    "with ProgressBar():\n",
    "    missing_count_pct = missing_count.compute()\n",
    "missing_count_pct"
   ]
  },
  {
   "cell_type": "markdown",
   "metadata": {},
   "source": [
    "## 2.5 Filtering sparse columns"
   ]
  },
  {
   "cell_type": "code",
   "execution_count": 30,
   "metadata": {},
   "outputs": [
    {
     "name": "stdout",
     "output_type": "stream",
     "text": [
      "[################################        ] | 81% Completed | 44.1s"
     ]
    },
    {
     "name": "stderr",
     "output_type": "stream",
     "text": [
      "/Library/Frameworks/Python.framework/Versions/3.6/lib/python3.6/site-packages/dask/core.py:121: DtypeWarning: Columns (18,38) have mixed types.Specify dtype option on import or set low_memory=False.\n",
      "  return func(*(_execute_task(a, cache) for a in args))\n"
     ]
    },
    {
     "name": "stdout",
     "output_type": "stream",
     "text": [
      "[########################################] | 100% Completed | 46.5s\n"
     ]
    }
   ],
   "source": [
    "columns_to_drop = missing_count_pct[missing_count_pct>60].index\n",
    "with ProgressBar():\n",
    "    df_dropped = df.drop(columns_to_drop, axis=1).persist()"
   ]
  },
  {
   "cell_type": "markdown",
   "metadata": {},
   "source": [
    "### get the shape of df_dropped"
   ]
  },
  {
   "cell_type": "code",
   "execution_count": 37,
   "metadata": {},
   "outputs": [
    {
     "name": "stdout",
     "output_type": "stream",
     "text": [
      "[########################################] | 100% Completed |  0.1s\n"
     ]
    },
    {
     "data": {
      "text/plain": [
       "[10803028, 35]"
      ]
     },
     "execution_count": 37,
     "metadata": {},
     "output_type": "execute_result"
    }
   ],
   "source": [
    "df_dropped_shape = df_dropped.shape\n",
    "df_shape = [0, df_dropped_shape[1]]\n",
    "with ProgressBar():\n",
    "    df_shape[0] = df_dropped_shape[0].compute()\n",
    "df_shape"
   ]
  },
  {
   "cell_type": "markdown",
   "metadata": {},
   "source": [
    "## 2.6 Creating some functions"
   ]
  },
  {
   "cell_type": "code",
   "execution_count": 3,
   "metadata": {},
   "outputs": [],
   "source": [
    "def inc(i): return i+1\n",
    "def add(x, y): return x + y"
   ]
  },
  {
   "cell_type": "code",
   "execution_count": 27,
   "metadata": {},
   "outputs": [],
   "source": [
    "x = delayed(inc)(1)\n",
    "y = delayed(inc)(2)\n",
    "z = delayed(add)(x, y)"
   ]
  },
  {
   "cell_type": "code",
   "execution_count": 28,
   "metadata": {
    "collapsed": true,
    "jupyter": {
     "outputs_hidden": true
    }
   },
   "outputs": [
    {
     "data": {
      "image/png": "[encoded data removed]",
      "text/plain": [
       "<IPython.core.display.Image object>"
      ]
     },
     "execution_count": 28,
     "metadata": {},
     "output_type": "execute_result"
    }
   ],
   "source": [
    "z.visualize(format='png')"
   ]
  },
  {
   "cell_type": "code",
   "execution_count": 21,
   "metadata": {},
   "outputs": [
    {
     "data": {
      "text/plain": [
       "5"
      ]
     },
     "execution_count": 21,
     "metadata": {},
     "output_type": "execute_result"
    }
   ],
   "source": [
    "z.compute()"
   ]
  },
  {
   "cell_type": "code",
   "execution_count": 25,
   "metadata": {},
   "outputs": [
    {
     "data": {
      "text/plain": [
       "Delayed('add-e291c50c-42ff-4c8a-b146-579d96288538')"
      ]
     },
     "execution_count": 25,
     "metadata": {},
     "output_type": "execute_result"
    }
   ],
   "source": [
    "z"
   ]
  },
  {
   "cell_type": "code",
   "execution_count": 43,
   "metadata": {},
   "outputs": [],
   "source": [
    "#missing_count.visualize()"
   ]
  },
  {
   "cell_type": "markdown",
   "metadata": {},
   "source": [
    "# Chapter 5 Cleaning and Transforming Dataframes"
   ]
  },
  {
   "cell_type": "code",
   "execution_count": 192,
   "metadata": {},
   "outputs": [],
   "source": [
    "dtypes = {\n",
    " 'Date First Observed': np.str,\n",
    " 'Days Parking In Effect    ': np.str,\n",
    " 'Double Parking Violation': np.str,\n",
    " 'Feet From Curb': np.float32,\n",
    " 'From Hours In Effect': np.str,\n",
    " 'House Number': np.str,\n",
    " 'Hydrant Violation': np.str,\n",
    " 'Intersecting Street': np.str,\n",
    " 'Issue Date': np.str,\n",
    " 'Issuer Code': np.float32,\n",
    " 'Issuer Command': np.str,\n",
    " 'Issuer Precinct': np.float32,\n",
    " 'Issuer Squad': np.str,\n",
    " 'Issuing Agency': np.str,\n",
    " 'Law Section': np.float32,\n",
    " 'Meter Number': np.str,\n",
    " 'No Standing or Stopping Violation': np.str,\n",
    " 'Plate ID': np.str,\n",
    " 'Plate Type': np.str,\n",
    " 'Registration State': np.str,\n",
    " 'Street Code1': np.uint32,\n",
    " 'Street Code2': np.uint32,\n",
    " 'Street Code3': np.uint32,\n",
    " 'Street Name': np.str,\n",
    " 'Sub Division': np.str,\n",
    " 'Summons Number': np.uint32,\n",
    " 'Time First Observed': np.str,\n",
    " 'To Hours In Effect': np.str,\n",
    " 'Unregistered Vehicle?': np.str,\n",
    " 'Vehicle Body Type': np.str,\n",
    " 'Vehicle Color': np.str,\n",
    " 'Vehicle Expiration Date': np.str,\n",
    " 'Vehicle Make': np.str,\n",
    " 'Vehicle Year': np.float32,\n",
    " 'Violation Code': np.uint16,\n",
    " 'Violation County': np.str,\n",
    " 'Violation Description': np.str,\n",
    " 'Violation In Front Of Or Opposite': np.str,\n",
    " 'Violation Legal Code': np.str,\n",
    " 'Violation Location': np.str,\n",
    " 'Violation Post Code': np.str,\n",
    " 'Violation Precinct': np.float32,\n",
    " 'Violation Time': np.str\n",
    "}\n"
   ]
  },
  {
   "cell_type": "code",
   "execution_count": 193,
   "metadata": {},
   "outputs": [],
   "source": [
    "nyc_data_raw = dd.read_csv('nyc-parking-tickets/*.csv', dtype=dtypes, usecols=dtypes.keys())"
   ]
  },
  {
   "cell_type": "code",
   "execution_count": 194,
   "metadata": {
    "collapsed": true,
    "jupyter": {
     "outputs_hidden": true
    }
   },
   "outputs": [
    {
     "name": "stdout",
     "output_type": "stream",
     "text": [
      "[########################################] | 100% Completed |  1.8s\n",
      "  Plate ID Registration State\n",
      "0  GBB9093                 NY\n",
      "1  62416MB                 NY\n",
      "2  78755JZ                 NY\n",
      "3  63009MA                 NY\n",
      "4  91648MC                 NY\n"
     ]
    }
   ],
   "source": [
    "with ProgressBar():\n",
    "           print(nyc_data_raw[['Plate ID', 'Registration State']].head())"
   ]
  },
  {
   "cell_type": "markdown",
   "metadata": {},
   "source": [
    "## 5.1 Working with indexes and axes"
   ]
  },
  {
   "cell_type": "code",
   "execution_count": 31,
   "metadata": {
    "collapsed": true,
    "jupyter": {
     "outputs_hidden": true
    }
   },
   "outputs": [
    {
     "name": "stdout",
     "output_type": "stream",
     "text": [
      "[########################################] | 100% Completed |  1.7s\n"
     ]
    },
    {
     "data": {
      "text/plain": [
       "0    GBB9093\n",
       "1    62416MB\n",
       "2    78755JZ\n",
       "3    63009MA\n",
       "4    91648MC\n",
       "Name: Plate ID, dtype: object"
      ]
     },
     "metadata": {},
     "output_type": "display_data"
    }
   ],
   "source": [
    "with ProgressBar():\n",
    "    display(nyc_data_raw['Plate ID'].head())"
   ]
  },
  {
   "cell_type": "code",
   "execution_count": 34,
   "metadata": {
    "collapsed": true,
    "jupyter": {
     "outputs_hidden": true
    }
   },
   "outputs": [
    {
     "name": "stdout",
     "output_type": "stream",
     "text": [
      "[########################################] | 100% Completed |  1.7s\n",
      "0    GBB9093\n",
      "1    62416MB\n",
      "2    78755JZ\n",
      "3    63009MA\n",
      "4    91648MC\n",
      "Name: Plate ID, dtype: object\n"
     ]
    }
   ],
   "source": [
    "with ProgressBar():\n",
    "    print(nyc_data_raw['Plate ID'].head())"
   ]
  },
  {
   "cell_type": "markdown",
   "metadata": {},
   "source": [
    "### listing 5.2 Selecting multiple columns from a dataframe"
   ]
  },
  {
   "cell_type": "code",
   "execution_count": 76,
   "metadata": {},
   "outputs": [
    {
     "name": "stdout",
     "output_type": "stream",
     "text": [
      "[########################################] | 100% Completed |  1.6s\n",
      "  Plate ID Registration State\n",
      "0  GBB9093                 NY\n",
      "1  62416MB                 NY\n",
      "2  78755JZ                 NY\n",
      "3  63009MA                 NY\n",
      "4  91648MC                 NY\n"
     ]
    }
   ],
   "source": [
    "nyc_data_2cols = nyc_data_raw[['Plate ID', 'Registration State']]\n",
    "with ProgressBar():\n",
    "    print(nyc_data_2cols.head())"
   ]
  },
  {
   "cell_type": "code",
   "execution_count": 71,
   "metadata": {
    "collapsed": true,
    "jupyter": {
     "outputs_hidden": true
    }
   },
   "outputs": [
    {
     "name": "stdout",
     "output_type": "stream",
     "text": [
      "[########################################] | 100% Completed |  1.8s\n"
     ]
    },
    {
     "data": {
      "text/html": [
       "<div>\n",
       "<style scoped>\n",
       "    .dataframe tbody tr th:only-of-type {\n",
       "        vertical-align: middle;\n",
       "    }\n",
       "\n",
       "    .dataframe tbody tr th {\n",
       "        vertical-align: top;\n",
       "    }\n",
       "\n",
       "    .dataframe thead th {\n",
       "        text-align: right;\n",
       "    }\n",
       "</style>\n",
       "<table border=\"1\" class=\"dataframe\">\n",
       "  <thead>\n",
       "    <tr style=\"text-align: right;\">\n",
       "      <th></th>\n",
       "      <th>Summons Number</th>\n",
       "      <th>Plate ID</th>\n",
       "      <th>Registration State</th>\n",
       "      <th>Plate Type</th>\n",
       "      <th>Issue Date</th>\n",
       "      <th>Vehicle Body Type</th>\n",
       "      <th>Vehicle Make</th>\n",
       "      <th>Issuing Agency</th>\n",
       "      <th>Street Code1</th>\n",
       "      <th>Street Code2</th>\n",
       "      <th>...</th>\n",
       "      <th>Vehicle Color</th>\n",
       "      <th>Unregistered Vehicle?</th>\n",
       "      <th>Vehicle Year</th>\n",
       "      <th>Meter Number</th>\n",
       "      <th>Feet From Curb</th>\n",
       "      <th>Violation Post Code</th>\n",
       "      <th>Violation Description</th>\n",
       "      <th>No Standing or Stopping Violation</th>\n",
       "      <th>Hydrant Violation</th>\n",
       "      <th>Double Parking Violation</th>\n",
       "    </tr>\n",
       "  </thead>\n",
       "  <tbody>\n",
       "    <tr>\n",
       "      <th>0</th>\n",
       "      <td>1283294138</td>\n",
       "      <td>GBB9093</td>\n",
       "      <td>NY</td>\n",
       "      <td>PAS</td>\n",
       "      <td>08/04/2013</td>\n",
       "      <td>SUBN</td>\n",
       "      <td>AUDI</td>\n",
       "      <td>P</td>\n",
       "      <td>37250</td>\n",
       "      <td>13610</td>\n",
       "      <td>...</td>\n",
       "      <td>GY</td>\n",
       "      <td>0</td>\n",
       "      <td>2013.0</td>\n",
       "      <td>-</td>\n",
       "      <td>0.0</td>\n",
       "      <td>NaN</td>\n",
       "      <td>NaN</td>\n",
       "      <td>NaN</td>\n",
       "      <td>NaN</td>\n",
       "      <td>NaN</td>\n",
       "    </tr>\n",
       "    <tr>\n",
       "      <th>1</th>\n",
       "      <td>1283294151</td>\n",
       "      <td>62416MB</td>\n",
       "      <td>NY</td>\n",
       "      <td>COM</td>\n",
       "      <td>08/04/2013</td>\n",
       "      <td>VAN</td>\n",
       "      <td>FORD</td>\n",
       "      <td>P</td>\n",
       "      <td>37290</td>\n",
       "      <td>40404</td>\n",
       "      <td>...</td>\n",
       "      <td>WH</td>\n",
       "      <td>0</td>\n",
       "      <td>2012.0</td>\n",
       "      <td>-</td>\n",
       "      <td>0.0</td>\n",
       "      <td>NaN</td>\n",
       "      <td>NaN</td>\n",
       "      <td>NaN</td>\n",
       "      <td>NaN</td>\n",
       "      <td>NaN</td>\n",
       "    </tr>\n",
       "    <tr>\n",
       "      <th>2</th>\n",
       "      <td>1283294163</td>\n",
       "      <td>78755JZ</td>\n",
       "      <td>NY</td>\n",
       "      <td>COM</td>\n",
       "      <td>08/05/2013</td>\n",
       "      <td>P-U</td>\n",
       "      <td>CHEVR</td>\n",
       "      <td>P</td>\n",
       "      <td>37030</td>\n",
       "      <td>31190</td>\n",
       "      <td>...</td>\n",
       "      <td>NaN</td>\n",
       "      <td>0</td>\n",
       "      <td>0.0</td>\n",
       "      <td>-</td>\n",
       "      <td>0.0</td>\n",
       "      <td>NaN</td>\n",
       "      <td>NaN</td>\n",
       "      <td>NaN</td>\n",
       "      <td>NaN</td>\n",
       "      <td>NaN</td>\n",
       "    </tr>\n",
       "    <tr>\n",
       "      <th>3</th>\n",
       "      <td>1283294175</td>\n",
       "      <td>63009MA</td>\n",
       "      <td>NY</td>\n",
       "      <td>COM</td>\n",
       "      <td>08/05/2013</td>\n",
       "      <td>VAN</td>\n",
       "      <td>FORD</td>\n",
       "      <td>P</td>\n",
       "      <td>37270</td>\n",
       "      <td>11710</td>\n",
       "      <td>...</td>\n",
       "      <td>WH</td>\n",
       "      <td>0</td>\n",
       "      <td>2010.0</td>\n",
       "      <td>-</td>\n",
       "      <td>0.0</td>\n",
       "      <td>NaN</td>\n",
       "      <td>NaN</td>\n",
       "      <td>NaN</td>\n",
       "      <td>NaN</td>\n",
       "      <td>NaN</td>\n",
       "    </tr>\n",
       "    <tr>\n",
       "      <th>4</th>\n",
       "      <td>1283294187</td>\n",
       "      <td>91648MC</td>\n",
       "      <td>NY</td>\n",
       "      <td>COM</td>\n",
       "      <td>08/08/2013</td>\n",
       "      <td>TRLR</td>\n",
       "      <td>GMC</td>\n",
       "      <td>P</td>\n",
       "      <td>37240</td>\n",
       "      <td>12010</td>\n",
       "      <td>...</td>\n",
       "      <td>BR</td>\n",
       "      <td>0</td>\n",
       "      <td>2012.0</td>\n",
       "      <td>-</td>\n",
       "      <td>0.0</td>\n",
       "      <td>NaN</td>\n",
       "      <td>NaN</td>\n",
       "      <td>NaN</td>\n",
       "      <td>NaN</td>\n",
       "      <td>NaN</td>\n",
       "    </tr>\n",
       "  </tbody>\n",
       "</table>\n",
       "<p>5 rows × 42 columns</p>\n",
       "</div>"
      ],
      "text/plain": [
       "   Summons Number Plate ID Registration State Plate Type  Issue Date  \\\n",
       "0      1283294138  GBB9093                 NY        PAS  08/04/2013   \n",
       "1      1283294151  62416MB                 NY        COM  08/04/2013   \n",
       "2      1283294163  78755JZ                 NY        COM  08/05/2013   \n",
       "3      1283294175  63009MA                 NY        COM  08/05/2013   \n",
       "4      1283294187  91648MC                 NY        COM  08/08/2013   \n",
       "\n",
       "  Vehicle Body Type Vehicle Make Issuing Agency  Street Code1  Street Code2  \\\n",
       "0              SUBN         AUDI              P         37250         13610   \n",
       "1               VAN         FORD              P         37290         40404   \n",
       "2               P-U        CHEVR              P         37030         31190   \n",
       "3               VAN         FORD              P         37270         11710   \n",
       "4              TRLR          GMC              P         37240         12010   \n",
       "\n",
       "   ...  Vehicle Color Unregistered Vehicle? Vehicle Year  Meter Number  \\\n",
       "0  ...             GY                     0       2013.0             -   \n",
       "1  ...             WH                     0       2012.0             -   \n",
       "2  ...            NaN                     0          0.0             -   \n",
       "3  ...             WH                     0       2010.0             -   \n",
       "4  ...             BR                     0       2012.0             -   \n",
       "\n",
       "   Feet From Curb  Violation Post Code Violation Description  \\\n",
       "0             0.0                  NaN                   NaN   \n",
       "1             0.0                  NaN                   NaN   \n",
       "2             0.0                  NaN                   NaN   \n",
       "3             0.0                  NaN                   NaN   \n",
       "4             0.0                  NaN                   NaN   \n",
       "\n",
       "  No Standing or Stopping Violation Hydrant Violation Double Parking Violation  \n",
       "0                               NaN               NaN                      NaN  \n",
       "1                               NaN               NaN                      NaN  \n",
       "2                               NaN               NaN                      NaN  \n",
       "3                               NaN               NaN                      NaN  \n",
       "4                               NaN               NaN                      NaN  \n",
       "\n",
       "[5 rows x 42 columns]"
      ]
     },
     "metadata": {},
     "output_type": "display_data"
    }
   ],
   "source": [
    "with ProgressBar():\n",
    "    display(nyc_data_raw.drop('Violation Code', axis=1).head())"
   ]
  },
  {
   "cell_type": "markdown",
   "metadata": {},
   "source": [
    "### listing 5.8 Getting a single row by index"
   ]
  },
  {
   "cell_type": "code",
   "execution_count": 36,
   "metadata": {
    "collapsed": true,
    "jupyter": {
     "outputs_hidden": true
    }
   },
   "outputs": [
    {
     "name": "stdout",
     "output_type": "stream",
     "text": [
      "[########################################] | 100% Completed |  1.6s\n"
     ]
    },
    {
     "data": {
      "text/html": [
       "<div>\n",
       "<style scoped>\n",
       "    .dataframe tbody tr th:only-of-type {\n",
       "        vertical-align: middle;\n",
       "    }\n",
       "\n",
       "    .dataframe tbody tr th {\n",
       "        vertical-align: top;\n",
       "    }\n",
       "\n",
       "    .dataframe thead th {\n",
       "        text-align: right;\n",
       "    }\n",
       "</style>\n",
       "<table border=\"1\" class=\"dataframe\">\n",
       "  <thead>\n",
       "    <tr style=\"text-align: right;\">\n",
       "      <th></th>\n",
       "      <th>Summons Number</th>\n",
       "      <th>Plate ID</th>\n",
       "      <th>Registration State</th>\n",
       "      <th>Plate Type</th>\n",
       "      <th>Issue Date</th>\n",
       "      <th>Violation Code</th>\n",
       "      <th>Vehicle Body Type</th>\n",
       "      <th>Vehicle Make</th>\n",
       "      <th>Issuing Agency</th>\n",
       "      <th>Street Code1</th>\n",
       "      <th>...</th>\n",
       "      <th>Vehicle Color</th>\n",
       "      <th>Unregistered Vehicle?</th>\n",
       "      <th>Vehicle Year</th>\n",
       "      <th>Meter Number</th>\n",
       "      <th>Feet From Curb</th>\n",
       "      <th>Violation Post Code</th>\n",
       "      <th>Violation Description</th>\n",
       "      <th>No Standing or Stopping Violation</th>\n",
       "      <th>Hydrant Violation</th>\n",
       "      <th>Double Parking Violation</th>\n",
       "    </tr>\n",
       "  </thead>\n",
       "  <tbody>\n",
       "    <tr>\n",
       "      <th>56</th>\n",
       "      <td>1293090530</td>\n",
       "      <td>GES3519</td>\n",
       "      <td>NY</td>\n",
       "      <td>PAS</td>\n",
       "      <td>07/07/2013</td>\n",
       "      <td>40</td>\n",
       "      <td>SDN</td>\n",
       "      <td>HONDA</td>\n",
       "      <td>F</td>\n",
       "      <td>70630</td>\n",
       "      <td>...</td>\n",
       "      <td>BLACK</td>\n",
       "      <td>0</td>\n",
       "      <td>1997.0</td>\n",
       "      <td>-</td>\n",
       "      <td>0.0</td>\n",
       "      <td>NaN</td>\n",
       "      <td>NaN</td>\n",
       "      <td>NaN</td>\n",
       "      <td>NaN</td>\n",
       "      <td>NaN</td>\n",
       "    </tr>\n",
       "  </tbody>\n",
       "</table>\n",
       "<p>1 rows × 43 columns</p>\n",
       "</div>"
      ],
      "text/plain": [
       "    Summons Number Plate ID Registration State Plate Type  Issue Date  \\\n",
       "56      1293090530  GES3519                 NY        PAS  07/07/2013   \n",
       "\n",
       "    Violation Code Vehicle Body Type Vehicle Make Issuing Agency  \\\n",
       "56              40               SDN        HONDA              F   \n",
       "\n",
       "    Street Code1  ...  Vehicle Color  Unregistered Vehicle? Vehicle Year  \\\n",
       "56         70630  ...          BLACK                      0       1997.0   \n",
       "\n",
       "   Meter Number  Feet From Curb  Violation Post Code  Violation Description  \\\n",
       "56            -             0.0                  NaN                    NaN   \n",
       "\n",
       "   No Standing or Stopping Violation Hydrant Violation  \\\n",
       "56                               NaN               NaN   \n",
       "\n",
       "   Double Parking Violation  \n",
       "56                      NaN  \n",
       "\n",
       "[1 rows x 43 columns]"
      ]
     },
     "metadata": {},
     "output_type": "display_data"
    }
   ],
   "source": [
    "with ProgressBar():\n",
    "    display(nyc_data_raw.loc[56].head(1))"
   ]
  },
  {
   "cell_type": "markdown",
   "metadata": {},
   "source": [
    "### listing 5.10 Filtering a slice of rows using Dask and Pandas"
   ]
  },
  {
   "cell_type": "code",
   "execution_count": 7,
   "metadata": {},
   "outputs": [
    {
     "name": "stdout",
     "output_type": "stream",
     "text": [
      "[########################################] | 100% Completed |  1.7s\n"
     ]
    }
   ],
   "source": [
    "with ProgressBar():\n",
    "    some_rows = nyc_data_raw.loc[100:200].head(100)\n",
    "#some_rows.drop(range(100,200,2))"
   ]
  },
  {
   "cell_type": "markdown",
   "metadata": {},
   "source": [
    "## 5.2 Dealing with missing values"
   ]
  },
  {
   "cell_type": "markdown",
   "metadata": {},
   "source": [
    "### listing 5.11 Calculating the percentage of the missing values by column"
   ]
  },
  {
   "cell_type": "code",
   "execution_count": 4,
   "metadata": {},
   "outputs": [],
   "source": [
    "missing_values = nyc_data_raw.isnull().sum()"
   ]
  },
  {
   "cell_type": "code",
   "execution_count": 5,
   "metadata": {
    "collapsed": true,
    "jupyter": {
     "outputs_hidden": true
    }
   },
   "outputs": [
    {
     "name": "stdout",
     "output_type": "stream",
     "text": [
      "[########################################] | 100% Completed |  3min 58.0s\n"
     ]
    },
    {
     "data": {
      "text/plain": [
       "Summons Number                        0.000000\n",
       "Plate ID                              0.020867\n",
       "Registration State                    0.000000\n",
       "Plate Type                            0.000000\n",
       "Issue Date                            0.000000\n",
       "Violation Code                        0.000000\n",
       "Vehicle Body Type                     0.564922\n",
       "Vehicle Make                          0.650526\n",
       "Issuing Agency                        0.000000\n",
       "Street Code1                          0.000000\n",
       "Street Code2                          0.000000\n",
       "Street Code3                          0.000000\n",
       "Vehicle Expiration Date               0.000002\n",
       "Violation Location                   15.142846\n",
       "Violation Precinct                    0.000002\n",
       "Issuer Precinct                       0.000002\n",
       "Issuer Code                           0.000002\n",
       "Issuer Command                       15.018851\n",
       "Issuer Squad                         15.022566\n",
       "Violation Time                        0.019207\n",
       "Time First Observed                  90.040886\n",
       "Violation County                     10.154892\n",
       "Violation In Front Of Or Opposite    15.953282\n",
       "House Number                         16.932473\n",
       "Street Name                           0.054894\n",
       "Intersecting Street                  72.571941\n",
       "Date First Observed                   0.000007\n",
       "Law Section                           0.000007\n",
       "Sub Division                          0.012412\n",
       "Violation Legal Code                 84.970398\n",
       "Days Parking In Effect               23.225424\n",
       "From Hours In Effect                 44.821011\n",
       "To Hours In Effect                   44.821004\n",
       "Vehicle Color                         1.152299\n",
       "Unregistered Vehicle?                88.484122\n",
       "Vehicle Year                          0.000012\n",
       "Meter Number                         81.115883\n",
       "Feet From Curb                        0.000012\n",
       "Violation Post Code                  26.532350\n",
       "Violation Description                11.523098\n",
       "No Standing or Stopping Violation    99.999998\n",
       "Hydrant Violation                    99.999998\n",
       "Double Parking Violation             99.999998\n",
       "dtype: float64"
      ]
     },
     "execution_count": 5,
     "metadata": {},
     "output_type": "execute_result"
    }
   ],
   "source": [
    "with ProgressBar():\n",
    "    percent_missing = ((missing_values / nyc_data_raw.index.size) * 100).compute()\n",
    "percent_missing"
   ]
  },
  {
   "cell_type": "code",
   "execution_count": 46,
   "metadata": {
    "collapsed": true,
    "jupyter": {
     "outputs_hidden": true
    }
   },
   "outputs": [
    {
     "data": {
      "text/plain": [
       "Index(['Summons Number', 'Plate ID', 'Registration State', 'Plate Type',\n",
       "       'Issue Date', 'Violation Code', 'Vehicle Body Type', 'Vehicle Make',\n",
       "       'Issuing Agency', 'Street Code1', 'Street Code2', 'Street Code3',\n",
       "       'Vehicle Expiration Date', 'Violation Location', 'Violation Precinct',\n",
       "       'Issuer Precinct', 'Issuer Code', 'Issuer Command', 'Issuer Squad',\n",
       "       'Violation Time', 'Time First Observed', 'Violation County',\n",
       "       'Violation In Front Of Or Opposite', 'House Number', 'Street Name',\n",
       "       'Intersecting Street', 'Date First Observed', 'Law Section',\n",
       "       'Sub Division', 'Violation Legal Code', 'Days Parking In Effect    ',\n",
       "       'From Hours In Effect', 'To Hours In Effect', 'Vehicle Color',\n",
       "       'Unregistered Vehicle?', 'Vehicle Year', 'Meter Number',\n",
       "       'Feet From Curb', 'Violation Post Code', 'Violation Description',\n",
       "       'No Standing or Stopping Violation', 'Hydrant Violation',\n",
       "       'Double Parking Violation'],\n",
       "      dtype='object')"
      ]
     },
     "execution_count": 46,
     "metadata": {},
     "output_type": "execute_result"
    }
   ],
   "source": [
    "percent_missing.index"
   ]
  },
  {
   "cell_type": "markdown",
   "metadata": {},
   "source": [
    "### listing 5.12 Dropping columns that have more than 50% missing values"
   ]
  },
  {
   "cell_type": "code",
   "execution_count": 6,
   "metadata": {},
   "outputs": [],
   "source": [
    "columns_to_drop = list(percent_missing[percent_missing >= 50].index)\n",
    "nyc_data_clean_stage1 = nyc_data_raw.drop(columns_to_drop, axis=1)"
   ]
  },
  {
   "cell_type": "code",
   "execution_count": 7,
   "metadata": {
    "collapsed": true,
    "jupyter": {
     "outputs_hidden": true
    }
   },
   "outputs": [
    {
     "data": {
      "text/plain": [
       "['Time First Observed',\n",
       " 'Intersecting Street',\n",
       " 'Violation Legal Code',\n",
       " 'Unregistered Vehicle?',\n",
       " 'Meter Number',\n",
       " 'No Standing or Stopping Violation',\n",
       " 'Hydrant Violation',\n",
       " 'Double Parking Violation']"
      ]
     },
     "execution_count": 7,
     "metadata": {},
     "output_type": "execute_result"
    }
   ],
   "source": [
    "columns_to_drop"
   ]
  },
  {
   "cell_type": "markdown",
   "metadata": {},
   "source": [
    "### listing 5.13 Imputing missing values"
   ]
  },
  {
   "cell_type": "code",
   "execution_count": 8,
   "metadata": {},
   "outputs": [
    {
     "name": "stdout",
     "output_type": "stream",
     "text": [
      "[########################################] | 100% Completed |  3min 22.5s\n"
     ]
    }
   ],
   "source": [
    "with ProgressBar():\n",
    "    count_of_vehicle_colors = nyc_data_clean_stage1['Vehicle Color'].value_counts().compute()"
   ]
  },
  {
   "cell_type": "code",
   "execution_count": 18,
   "metadata": {
    "collapsed": true,
    "jupyter": {
     "outputs_hidden": true
    }
   },
   "outputs": [
    {
     "data": {
      "text/plain": [
       "GY       6280314\n",
       "WH       6074770\n",
       "WHITE    5624960\n",
       "BK       5121030\n",
       "BLACK    2758479\n",
       "          ...   \n",
       "MAU            1\n",
       "MATOO          1\n",
       "MATH           1\n",
       "MARY           1\n",
       "$RY            1\n",
       "Name: Vehicle Color, Length: 5744, dtype: int64"
      ]
     },
     "metadata": {},
     "output_type": "display_data"
    }
   ],
   "source": [
    "display(count_of_vehicle_colors)"
   ]
  },
  {
   "cell_type": "code",
   "execution_count": 9,
   "metadata": {},
   "outputs": [
    {
     "data": {
      "text/plain": [
       "'GY'"
      ]
     },
     "execution_count": 9,
     "metadata": {},
     "output_type": "execute_result"
    }
   ],
   "source": [
    "most_common_color = count_of_vehicle_colors.sort_values(ascending=False).index[0]\n",
    "most_common_color"
   ]
  },
  {
   "cell_type": "code",
   "execution_count": 10,
   "metadata": {},
   "outputs": [],
   "source": [
    "nyc_data_clean_stage2 = nyc_data_clean_stage1.fillna({'Vehicle Color': most_common_color})"
   ]
  },
  {
   "cell_type": "markdown",
   "metadata": {},
   "source": [
    "### listing 5.14 Dropping rows with missing data"
   ]
  },
  {
   "cell_type": "code",
   "execution_count": 11,
   "metadata": {},
   "outputs": [],
   "source": [
    "rows_to_drop = list(percent_missing[(percent_missing > 0) & (percent_missing < 5)].index)\n",
    "nyc_data_clean_stage3 = nyc_data_clean_stage2.dropna(subset=rows_to_drop)"
   ]
  },
  {
   "cell_type": "markdown",
   "metadata": {},
   "source": [
    "### listing 5.15 Finding the datatypes of the remaining columns"
   ]
  },
  {
   "cell_type": "code",
   "execution_count": 12,
   "metadata": {},
   "outputs": [],
   "source": [
    "remaining_columns_to_clean = list(percent_missing[(percent_missing >= 5) & (percent_missing < 50)].index)"
   ]
  },
  {
   "cell_type": "code",
   "execution_count": 13,
   "metadata": {},
   "outputs": [
    {
     "data": {
      "text/plain": [
       "Violation Location                   object\n",
       "Issuer Command                       object\n",
       "Issuer Squad                         object\n",
       "Violation County                     object\n",
       "Violation In Front Of Or Opposite    object\n",
       "House Number                         object\n",
       "Days Parking In Effect               object\n",
       "From Hours In Effect                 object\n",
       "To Hours In Effect                   object\n",
       "Violation Post Code                  object\n",
       "Violation Description                object\n",
       "dtype: object"
      ]
     },
     "execution_count": 13,
     "metadata": {},
     "output_type": "execute_result"
    }
   ],
   "source": [
    "nyc_data_raw.dtypes[remaining_columns_to_clean]"
   ]
  },
  {
   "cell_type": "code",
   "execution_count": 14,
   "metadata": {},
   "outputs": [
    {
     "data": {
      "text/plain": [
       "{'Violation Location': 'Unknown',\n",
       " 'Issuer Command': 'Unknown',\n",
       " 'Issuer Squad': 'Unknown',\n",
       " 'Violation County': 'Unknown',\n",
       " 'Violation In Front Of Or Opposite': 'Unknown',\n",
       " 'House Number': 'Unknown',\n",
       " 'Days Parking In Effect    ': 'Unknown',\n",
       " 'From Hours In Effect': 'Unknown',\n",
       " 'To Hours In Effect': 'Unknown',\n",
       " 'Violation Post Code': 'Unknown',\n",
       " 'Violation Description': 'Unknown'}"
      ]
     },
     "execution_count": 14,
     "metadata": {},
     "output_type": "execute_result"
    }
   ],
   "source": [
    "unknown_default_dict = dict(map(lambda colName: (colName, 'Unknown'), remaining_columns_to_clean))\n",
    "unknown_default_dict"
   ]
  },
  {
   "cell_type": "markdown",
   "metadata": {},
   "source": [
    "### listing  5.17 Filling the dataframe with default values"
   ]
  },
  {
   "cell_type": "code",
   "execution_count": 15,
   "metadata": {},
   "outputs": [],
   "source": [
    "nyc_data_clean_stage4 = nyc_data_clean_stage3.fillna(unknown_default_dict)"
   ]
  },
  {
   "cell_type": "code",
   "execution_count": 16,
   "metadata": {
    "collapsed": true,
    "jupyter": {
     "outputs_hidden": true
    }
   },
   "outputs": [
    {
     "name": "stdout",
     "output_type": "stream",
     "text": [
      "[########################################] | 100% Completed |  5min 17.3s\n",
      "Summons Number                       0\n",
      "Plate ID                             0\n",
      "Registration State                   0\n",
      "Plate Type                           0\n",
      "Issue Date                           0\n",
      "Violation Code                       0\n",
      "Vehicle Body Type                    0\n",
      "Vehicle Make                         0\n",
      "Issuing Agency                       0\n",
      "Street Code1                         0\n",
      "Street Code2                         0\n",
      "Street Code3                         0\n",
      "Vehicle Expiration Date              0\n",
      "Violation Location                   0\n",
      "Violation Precinct                   0\n",
      "Issuer Precinct                      0\n",
      "Issuer Code                          0\n",
      "Issuer Command                       0\n",
      "Issuer Squad                         0\n",
      "Violation Time                       0\n",
      "Violation County                     0\n",
      "Violation In Front Of Or Opposite    0\n",
      "House Number                         0\n",
      "Street Name                          0\n",
      "Date First Observed                  0\n",
      "Law Section                          0\n",
      "Sub Division                         0\n",
      "Days Parking In Effect               0\n",
      "From Hours In Effect                 0\n",
      "To Hours In Effect                   0\n",
      "Vehicle Color                        0\n",
      "Vehicle Year                         0\n",
      "Feet From Curb                       0\n",
      "Violation Post Code                  0\n",
      "Violation Description                0\n",
      "dtype: int64\n"
     ]
    },
    {
     "data": {
      "text/html": [
       "<div><strong>Dask DataFrame Structure:</strong></div>\n",
       "<div>\n",
       "<style scoped>\n",
       "    .dataframe tbody tr th:only-of-type {\n",
       "        vertical-align: middle;\n",
       "    }\n",
       "\n",
       "    .dataframe tbody tr th {\n",
       "        vertical-align: top;\n",
       "    }\n",
       "\n",
       "    .dataframe thead th {\n",
       "        text-align: right;\n",
       "    }\n",
       "</style>\n",
       "<table border=\"1\" class=\"dataframe\">\n",
       "  <thead>\n",
       "    <tr style=\"text-align: right;\">\n",
       "      <th></th>\n",
       "      <th>Summons Number</th>\n",
       "      <th>Plate ID</th>\n",
       "      <th>Registration State</th>\n",
       "      <th>Plate Type</th>\n",
       "      <th>Issue Date</th>\n",
       "      <th>Violation Code</th>\n",
       "      <th>Vehicle Body Type</th>\n",
       "      <th>Vehicle Make</th>\n",
       "      <th>Issuing Agency</th>\n",
       "      <th>Street Code1</th>\n",
       "      <th>Street Code2</th>\n",
       "      <th>Street Code3</th>\n",
       "      <th>Vehicle Expiration Date</th>\n",
       "      <th>Violation Location</th>\n",
       "      <th>Violation Precinct</th>\n",
       "      <th>Issuer Precinct</th>\n",
       "      <th>Issuer Code</th>\n",
       "      <th>Issuer Command</th>\n",
       "      <th>Issuer Squad</th>\n",
       "      <th>Violation Time</th>\n",
       "      <th>Violation County</th>\n",
       "      <th>Violation In Front Of Or Opposite</th>\n",
       "      <th>House Number</th>\n",
       "      <th>Street Name</th>\n",
       "      <th>Date First Observed</th>\n",
       "      <th>Law Section</th>\n",
       "      <th>Sub Division</th>\n",
       "      <th>Days Parking In Effect</th>\n",
       "      <th>From Hours In Effect</th>\n",
       "      <th>To Hours In Effect</th>\n",
       "      <th>Vehicle Color</th>\n",
       "      <th>Vehicle Year</th>\n",
       "      <th>Feet From Curb</th>\n",
       "      <th>Violation Post Code</th>\n",
       "      <th>Violation Description</th>\n",
       "    </tr>\n",
       "    <tr>\n",
       "      <th>npartitions=142</th>\n",
       "      <th></th>\n",
       "      <th></th>\n",
       "      <th></th>\n",
       "      <th></th>\n",
       "      <th></th>\n",
       "      <th></th>\n",
       "      <th></th>\n",
       "      <th></th>\n",
       "      <th></th>\n",
       "      <th></th>\n",
       "      <th></th>\n",
       "      <th></th>\n",
       "      <th></th>\n",
       "      <th></th>\n",
       "      <th></th>\n",
       "      <th></th>\n",
       "      <th></th>\n",
       "      <th></th>\n",
       "      <th></th>\n",
       "      <th></th>\n",
       "      <th></th>\n",
       "      <th></th>\n",
       "      <th></th>\n",
       "      <th></th>\n",
       "      <th></th>\n",
       "      <th></th>\n",
       "      <th></th>\n",
       "      <th></th>\n",
       "      <th></th>\n",
       "      <th></th>\n",
       "      <th></th>\n",
       "      <th></th>\n",
       "      <th></th>\n",
       "      <th></th>\n",
       "      <th></th>\n",
       "    </tr>\n",
       "  </thead>\n",
       "  <tbody>\n",
       "    <tr>\n",
       "      <th></th>\n",
       "      <td>uint32</td>\n",
       "      <td>object</td>\n",
       "      <td>object</td>\n",
       "      <td>object</td>\n",
       "      <td>object</td>\n",
       "      <td>uint16</td>\n",
       "      <td>object</td>\n",
       "      <td>object</td>\n",
       "      <td>object</td>\n",
       "      <td>uint32</td>\n",
       "      <td>uint32</td>\n",
       "      <td>uint32</td>\n",
       "      <td>object</td>\n",
       "      <td>object</td>\n",
       "      <td>float32</td>\n",
       "      <td>float32</td>\n",
       "      <td>float32</td>\n",
       "      <td>object</td>\n",
       "      <td>object</td>\n",
       "      <td>object</td>\n",
       "      <td>object</td>\n",
       "      <td>object</td>\n",
       "      <td>object</td>\n",
       "      <td>object</td>\n",
       "      <td>object</td>\n",
       "      <td>float32</td>\n",
       "      <td>object</td>\n",
       "      <td>object</td>\n",
       "      <td>object</td>\n",
       "      <td>object</td>\n",
       "      <td>object</td>\n",
       "      <td>float32</td>\n",
       "      <td>float32</td>\n",
       "      <td>object</td>\n",
       "      <td>object</td>\n",
       "    </tr>\n",
       "    <tr>\n",
       "      <th></th>\n",
       "      <td>...</td>\n",
       "      <td>...</td>\n",
       "      <td>...</td>\n",
       "      <td>...</td>\n",
       "      <td>...</td>\n",
       "      <td>...</td>\n",
       "      <td>...</td>\n",
       "      <td>...</td>\n",
       "      <td>...</td>\n",
       "      <td>...</td>\n",
       "      <td>...</td>\n",
       "      <td>...</td>\n",
       "      <td>...</td>\n",
       "      <td>...</td>\n",
       "      <td>...</td>\n",
       "      <td>...</td>\n",
       "      <td>...</td>\n",
       "      <td>...</td>\n",
       "      <td>...</td>\n",
       "      <td>...</td>\n",
       "      <td>...</td>\n",
       "      <td>...</td>\n",
       "      <td>...</td>\n",
       "      <td>...</td>\n",
       "      <td>...</td>\n",
       "      <td>...</td>\n",
       "      <td>...</td>\n",
       "      <td>...</td>\n",
       "      <td>...</td>\n",
       "      <td>...</td>\n",
       "      <td>...</td>\n",
       "      <td>...</td>\n",
       "      <td>...</td>\n",
       "      <td>...</td>\n",
       "      <td>...</td>\n",
       "    </tr>\n",
       "    <tr>\n",
       "      <th>...</th>\n",
       "      <td>...</td>\n",
       "      <td>...</td>\n",
       "      <td>...</td>\n",
       "      <td>...</td>\n",
       "      <td>...</td>\n",
       "      <td>...</td>\n",
       "      <td>...</td>\n",
       "      <td>...</td>\n",
       "      <td>...</td>\n",
       "      <td>...</td>\n",
       "      <td>...</td>\n",
       "      <td>...</td>\n",
       "      <td>...</td>\n",
       "      <td>...</td>\n",
       "      <td>...</td>\n",
       "      <td>...</td>\n",
       "      <td>...</td>\n",
       "      <td>...</td>\n",
       "      <td>...</td>\n",
       "      <td>...</td>\n",
       "      <td>...</td>\n",
       "      <td>...</td>\n",
       "      <td>...</td>\n",
       "      <td>...</td>\n",
       "      <td>...</td>\n",
       "      <td>...</td>\n",
       "      <td>...</td>\n",
       "      <td>...</td>\n",
       "      <td>...</td>\n",
       "      <td>...</td>\n",
       "      <td>...</td>\n",
       "      <td>...</td>\n",
       "      <td>...</td>\n",
       "      <td>...</td>\n",
       "      <td>...</td>\n",
       "    </tr>\n",
       "    <tr>\n",
       "      <th></th>\n",
       "      <td>...</td>\n",
       "      <td>...</td>\n",
       "      <td>...</td>\n",
       "      <td>...</td>\n",
       "      <td>...</td>\n",
       "      <td>...</td>\n",
       "      <td>...</td>\n",
       "      <td>...</td>\n",
       "      <td>...</td>\n",
       "      <td>...</td>\n",
       "      <td>...</td>\n",
       "      <td>...</td>\n",
       "      <td>...</td>\n",
       "      <td>...</td>\n",
       "      <td>...</td>\n",
       "      <td>...</td>\n",
       "      <td>...</td>\n",
       "      <td>...</td>\n",
       "      <td>...</td>\n",
       "      <td>...</td>\n",
       "      <td>...</td>\n",
       "      <td>...</td>\n",
       "      <td>...</td>\n",
       "      <td>...</td>\n",
       "      <td>...</td>\n",
       "      <td>...</td>\n",
       "      <td>...</td>\n",
       "      <td>...</td>\n",
       "      <td>...</td>\n",
       "      <td>...</td>\n",
       "      <td>...</td>\n",
       "      <td>...</td>\n",
       "      <td>...</td>\n",
       "      <td>...</td>\n",
       "      <td>...</td>\n",
       "    </tr>\n",
       "    <tr>\n",
       "      <th></th>\n",
       "      <td>...</td>\n",
       "      <td>...</td>\n",
       "      <td>...</td>\n",
       "      <td>...</td>\n",
       "      <td>...</td>\n",
       "      <td>...</td>\n",
       "      <td>...</td>\n",
       "      <td>...</td>\n",
       "      <td>...</td>\n",
       "      <td>...</td>\n",
       "      <td>...</td>\n",
       "      <td>...</td>\n",
       "      <td>...</td>\n",
       "      <td>...</td>\n",
       "      <td>...</td>\n",
       "      <td>...</td>\n",
       "      <td>...</td>\n",
       "      <td>...</td>\n",
       "      <td>...</td>\n",
       "      <td>...</td>\n",
       "      <td>...</td>\n",
       "      <td>...</td>\n",
       "      <td>...</td>\n",
       "      <td>...</td>\n",
       "      <td>...</td>\n",
       "      <td>...</td>\n",
       "      <td>...</td>\n",
       "      <td>...</td>\n",
       "      <td>...</td>\n",
       "      <td>...</td>\n",
       "      <td>...</td>\n",
       "      <td>...</td>\n",
       "      <td>...</td>\n",
       "      <td>...</td>\n",
       "      <td>...</td>\n",
       "    </tr>\n",
       "  </tbody>\n",
       "</table>\n",
       "</div>\n",
       "<div>Dask Name: fillna, 142 tasks</div>"
      ],
      "text/plain": [
       "Dask DataFrame Structure:\n",
       "                Summons Number Plate ID Registration State Plate Type Issue Date Violation Code Vehicle Body Type Vehicle Make Issuing Agency Street Code1 Street Code2 Street Code3 Vehicle Expiration Date Violation Location Violation Precinct Issuer Precinct Issuer Code Issuer Command Issuer Squad Violation Time Violation County Violation In Front Of Or Opposite House Number Street Name Date First Observed Law Section Sub Division Days Parking In Effect     From Hours In Effect To Hours In Effect Vehicle Color Vehicle Year Feet From Curb Violation Post Code Violation Description\n",
       "npartitions=142                                                                                                                                                                                                                                                                                                                                                                                                                                                                                                                                                                                          \n",
       "                        uint32   object             object     object     object         uint16            object       object         object       uint32       uint32       uint32                  object             object            float32         float32     float32         object       object         object           object                            object       object      object              object     float32       object                     object               object             object        object      float32        float32              object                object\n",
       "                           ...      ...                ...        ...        ...            ...               ...          ...            ...          ...          ...          ...                     ...                ...                ...             ...         ...            ...          ...            ...              ...                               ...          ...         ...                 ...         ...          ...                        ...                  ...                ...           ...          ...            ...                 ...                   ...\n",
       "...                        ...      ...                ...        ...        ...            ...               ...          ...            ...          ...          ...          ...                     ...                ...                ...             ...         ...            ...          ...            ...              ...                               ...          ...         ...                 ...         ...          ...                        ...                  ...                ...           ...          ...            ...                 ...                   ...\n",
       "                           ...      ...                ...        ...        ...            ...               ...          ...            ...          ...          ...          ...                     ...                ...                ...             ...         ...            ...          ...            ...              ...                               ...          ...         ...                 ...         ...          ...                        ...                  ...                ...           ...          ...            ...                 ...                   ...\n",
       "                           ...      ...                ...        ...        ...            ...               ...          ...            ...          ...          ...          ...                     ...                ...                ...             ...         ...            ...          ...            ...              ...                               ...          ...         ...                 ...         ...          ...                        ...                  ...                ...           ...          ...            ...                 ...                   ...\n",
       "Dask Name: fillna, 142 tasks"
      ]
     },
     "execution_count": 16,
     "metadata": {},
     "output_type": "execute_result"
    }
   ],
   "source": [
    "with ProgressBar():\n",
    "    print(nyc_data_clean_stage4.isnull().sum().compute())\n",
    "nyc_data_clean_stage4.persist()"
   ]
  },
  {
   "cell_type": "markdown",
   "metadata": {},
   "source": [
    "## 5.3 Recoding data"
   ]
  },
  {
   "cell_type": "markdown",
   "metadata": {},
   "source": [
    "### Listing 5.19 Getting values counts of the Plate Type column"
   ]
  },
  {
   "cell_type": "code",
   "execution_count": 17,
   "metadata": {},
   "outputs": [
    {
     "name": "stdout",
     "output_type": "stream",
     "text": [
      "[########################################] | 100% Completed |  4min 54.9s\n"
     ]
    },
    {
     "data": {
      "text/plain": [
       "PAS    30452502\n",
       "COM     7966914\n",
       "OMT     1389341\n",
       "SRF      394656\n",
       "OMS      368952\n",
       "         ...   \n",
       "HOU           4\n",
       "JWV           3\n",
       "LOC           3\n",
       "HIF           2\n",
       "SNO           2\n",
       "Name: Plate Type, Length: 90, dtype: int64"
      ]
     },
     "execution_count": 17,
     "metadata": {},
     "output_type": "execute_result"
    }
   ],
   "source": [
    "with ProgressBar():\n",
    "    license_plate_types = nyc_data_clean_stage4['Plate Type'].value_counts().compute()\n",
    "license_plate_types"
   ]
  },
  {
   "cell_type": "markdown",
   "metadata": {},
   "source": [
    "### Lising 5.20 Recording the Plate Type column"
   ]
  },
  {
   "cell_type": "code",
   "execution_count": 18,
   "metadata": {},
   "outputs": [],
   "source": [
    "condition = nyc_data_clean_stage4['Plate Type'].isin(['PAS', 'COM'])\n",
    "plate_type_masked = nyc_data_clean_stage4['Plate Type'].where(condition, 'other')\n",
    "nyc_data_recode_stage1 = nyc_data_clean_stage4.drop('Plate Type', axis=1)\n",
    "nyc_data_recode_stage2 = nyc_data_recode_stage1.assign(PlateType=plate_type_masked)\n",
    "nyc_data_recode_stage3 = nyc_data_recode_stage2.rename(columns={'PlateType': 'Plate Type'})"
   ]
  },
  {
   "cell_type": "markdown",
   "metadata": {},
   "source": [
    "### Listing 5.21 looking at value counts after recording"
   ]
  },
  {
   "cell_type": "code",
   "execution_count": 19,
   "metadata": {},
   "outputs": [
    {
     "name": "stdout",
     "output_type": "stream",
     "text": [
      "[########################################] | 100% Completed |  5min 21.0s\n"
     ]
    },
    {
     "data": {
      "text/plain": [
       "PAS      30452502\n",
       "COM       7966914\n",
       "other     3418586\n",
       "Name: Plate Type, dtype: int64"
      ]
     },
     "metadata": {},
     "output_type": "display_data"
    }
   ],
   "source": [
    "with ProgressBar():\n",
    "    display(nyc_data_recode_stage3['Plate Type'].value_counts().compute())"
   ]
  },
  {
   "cell_type": "code",
   "execution_count": 20,
   "metadata": {},
   "outputs": [
    {
     "data": {
      "text/plain": [
       "GY       6280314\n",
       "WH       6074770\n",
       "WHITE    5624960\n",
       "BK       5121030\n",
       "BLACK    2758479\n",
       "          ...   \n",
       "MAU            1\n",
       "MATOO          1\n",
       "MATH           1\n",
       "MARY           1\n",
       "$RY            1\n",
       "Name: Vehicle Color, Length: 5744, dtype: int64"
      ]
     },
     "execution_count": 20,
     "metadata": {},
     "output_type": "execute_result"
    }
   ],
   "source": [
    "count_of_vehicle_colors"
   ]
  },
  {
   "cell_type": "code",
   "execution_count": 21,
   "metadata": {},
   "outputs": [],
   "source": [
    "# Listing 5.22 Using mask to put unique colors in an 'other' \n",
    "single_color = list(count_of_vehicle_colors[count_of_vehicle_colors==1].index)\n",
    "condition = nyc_data_clean_stage4['Vehicle Color'].isin(single_color)\n",
    "vehicle_masked = nyc_data_clean_stage4['Vehicle Color'].mask(condition, 'Other')\n",
    "nyc_data_recode_stage4 = nyc_data_recode_stage3.drop('Vehicle Color', axis=1)\n",
    "nyc_data_recode_stage5 = nyc_data_recode_stage4.assign(VehicleColor=vehicle_masked)\n",
    "nyc_data_recode_stage6 = nyc_data_recode_stage5.rename(columns={'VehicleColor': 'Vehicle Color'})"
   ]
  },
  {
   "cell_type": "markdown",
   "metadata": {},
   "source": [
    "## 5.4 Elementwise operations"
   ]
  },
  {
   "cell_type": "code",
   "execution_count": 22,
   "metadata": {},
   "outputs": [],
   "source": [
    "# listing 5.23 Parsing the Issue Date Columns\n",
    "issue_date_parsed = nyc_data_recode_stage6['Issue Date'].apply(lambda x: datetime.strptime(x, '%m/%d/%Y'), meta=datetime)\n",
    "nyc_data_derived_stage1 = nyc_data_recode_stage6.drop('Issue Date', axis=1)\n",
    "nyc_data_derived_stage2 = nyc_data_derived_stage1.assign(IssueDate = issue_date_parsed)\n",
    "nyc_data_derived_stage3 = nyc_data_derived_stage2.rename(columns={'IssueDate': 'Issue Date'})"
   ]
  },
  {
   "cell_type": "code",
   "execution_count": 23,
   "metadata": {},
   "outputs": [],
   "source": [
    "# Listing 5.25 Extracting the month and year\n",
    "issue_date_month_year = nyc_data_derived_stage3['Issue Date'].apply(lambda dt: dt.strftime(\"%Y%m\"), meta=str)\n",
    "nyc_data_derived_stage4 = nyc_data_derived_stage3.assign(IssueMonthYear=issue_date_month_year)\n",
    "nyc_data_derived_stage5 = nyc_data_derived_stage4.rename(columns={'IssueMonthYear':'Citation Issued Month Year'})"
   ]
  },
  {
   "cell_type": "code",
   "execution_count": 24,
   "metadata": {},
   "outputs": [
    {
     "name": "stdout",
     "output_type": "stream",
     "text": [
      "[########################################] | 100% Completed |  8.6s\n"
     ]
    },
    {
     "data": {
      "text/plain": [
       "0    201308\n",
       "1    201308\n",
       "2    201308\n",
       "3    201308\n",
       "4    201308\n",
       "Name: Citation Issued Month Year, dtype: object"
      ]
     },
     "metadata": {},
     "output_type": "display_data"
    }
   ],
   "source": [
    "# Listing 5.26 Inspecting the new derived column\n",
    "with ProgressBar():\n",
    "    display(nyc_data_derived_stage5['Citation Issued Month Year'].head())"
   ]
  },
  {
   "cell_type": "markdown",
   "metadata": {},
   "source": [
    "## 5.5 Filtering and reindexing DataFrames"
   ]
  },
  {
   "cell_type": "code",
   "execution_count": 110,
   "metadata": {
    "collapsed": true,
    "jupyter": {
     "outputs_hidden": true
    }
   },
   "outputs": [
    {
     "name": "stdout",
     "output_type": "stream",
     "text": [
      "[########################################] | 100% Completed |  9.3s\n"
     ]
    },
    {
     "data": {
      "text/html": [
       "<div>\n",
       "<style scoped>\n",
       "    .dataframe tbody tr th:only-of-type {\n",
       "        vertical-align: middle;\n",
       "    }\n",
       "\n",
       "    .dataframe tbody tr th {\n",
       "        vertical-align: top;\n",
       "    }\n",
       "\n",
       "    .dataframe thead th {\n",
       "        text-align: right;\n",
       "    }\n",
       "</style>\n",
       "<table border=\"1\" class=\"dataframe\">\n",
       "  <thead>\n",
       "    <tr style=\"text-align: right;\">\n",
       "      <th></th>\n",
       "      <th>Summons Number</th>\n",
       "      <th>Plate ID</th>\n",
       "      <th>Registration State</th>\n",
       "      <th>Violation Code</th>\n",
       "      <th>Vehicle Body Type</th>\n",
       "      <th>Vehicle Make</th>\n",
       "      <th>Issuing Agency</th>\n",
       "      <th>Street Code1</th>\n",
       "      <th>Street Code2</th>\n",
       "      <th>Street Code3</th>\n",
       "      <th>...</th>\n",
       "      <th>From Hours In Effect</th>\n",
       "      <th>To Hours In Effect</th>\n",
       "      <th>Vehicle Year</th>\n",
       "      <th>Feet From Curb</th>\n",
       "      <th>Violation Post Code</th>\n",
       "      <th>Violation Description</th>\n",
       "      <th>Plate Type</th>\n",
       "      <th>Vehicle Color</th>\n",
       "      <th>Issue Date</th>\n",
       "      <th>Citation Issued Month Year</th>\n",
       "    </tr>\n",
       "  </thead>\n",
       "  <tbody>\n",
       "    <tr>\n",
       "      <th>1609</th>\n",
       "      <td>1340313923</td>\n",
       "      <td>GEK8055</td>\n",
       "      <td>NY</td>\n",
       "      <td>40</td>\n",
       "      <td>SUBN</td>\n",
       "      <td>HONDA</td>\n",
       "      <td>P</td>\n",
       "      <td>79630</td>\n",
       "      <td>40404</td>\n",
       "      <td>40404</td>\n",
       "      <td>...</td>\n",
       "      <td>ALL</td>\n",
       "      <td>ALL</td>\n",
       "      <td>2013.0</td>\n",
       "      <td>5.0</td>\n",
       "      <td>Unknown</td>\n",
       "      <td>Unknown</td>\n",
       "      <td>PAS</td>\n",
       "      <td>BROWN</td>\n",
       "      <td>2013-10-23</td>\n",
       "      <td>201310</td>\n",
       "    </tr>\n",
       "    <tr>\n",
       "      <th>23367</th>\n",
       "      <td>1351679867</td>\n",
       "      <td>XE726658</td>\n",
       "      <td>DE</td>\n",
       "      <td>20</td>\n",
       "      <td>P-U</td>\n",
       "      <td>DODGE</td>\n",
       "      <td>P</td>\n",
       "      <td>90980</td>\n",
       "      <td>0</td>\n",
       "      <td>0</td>\n",
       "      <td>...</td>\n",
       "      <td>ALL</td>\n",
       "      <td>ALL</td>\n",
       "      <td>2002.0</td>\n",
       "      <td>0.0</td>\n",
       "      <td>Unknown</td>\n",
       "      <td>Unknown</td>\n",
       "      <td>PAS</td>\n",
       "      <td>RED</td>\n",
       "      <td>2013-10-21</td>\n",
       "      <td>201310</td>\n",
       "    </tr>\n",
       "    <tr>\n",
       "      <th>24172</th>\n",
       "      <td>1351805253</td>\n",
       "      <td>42067JM</td>\n",
       "      <td>NY</td>\n",
       "      <td>14</td>\n",
       "      <td>DELV</td>\n",
       "      <td>FRUEH</td>\n",
       "      <td>P</td>\n",
       "      <td>25630</td>\n",
       "      <td>13610</td>\n",
       "      <td>24985</td>\n",
       "      <td>...</td>\n",
       "      <td>ALL</td>\n",
       "      <td>ALL</td>\n",
       "      <td>1999.0</td>\n",
       "      <td>0.0</td>\n",
       "      <td>Unknown</td>\n",
       "      <td>Unknown</td>\n",
       "      <td>COM</td>\n",
       "      <td>WHITE</td>\n",
       "      <td>2013-10-17</td>\n",
       "      <td>201310</td>\n",
       "    </tr>\n",
       "    <tr>\n",
       "      <th>32902</th>\n",
       "      <td>1355051060</td>\n",
       "      <td>76254JY</td>\n",
       "      <td>NY</td>\n",
       "      <td>46</td>\n",
       "      <td>DELV</td>\n",
       "      <td>FRUEH</td>\n",
       "      <td>P</td>\n",
       "      <td>68020</td>\n",
       "      <td>26760</td>\n",
       "      <td>66120</td>\n",
       "      <td>...</td>\n",
       "      <td>ALL</td>\n",
       "      <td>ALL</td>\n",
       "      <td>2007.0</td>\n",
       "      <td>0.0</td>\n",
       "      <td>Unknown</td>\n",
       "      <td>Unknown</td>\n",
       "      <td>COM</td>\n",
       "      <td>WHITE</td>\n",
       "      <td>2013-10-10</td>\n",
       "      <td>201310</td>\n",
       "    </tr>\n",
       "    <tr>\n",
       "      <th>32903</th>\n",
       "      <td>1355051071</td>\n",
       "      <td>44125MC</td>\n",
       "      <td>NY</td>\n",
       "      <td>46</td>\n",
       "      <td>VAN</td>\n",
       "      <td>FORD</td>\n",
       "      <td>P</td>\n",
       "      <td>68020</td>\n",
       "      <td>26490</td>\n",
       "      <td>26520</td>\n",
       "      <td>...</td>\n",
       "      <td>ALL</td>\n",
       "      <td>ALL</td>\n",
       "      <td>2011.0</td>\n",
       "      <td>0.0</td>\n",
       "      <td>Unknown</td>\n",
       "      <td>Unknown</td>\n",
       "      <td>COM</td>\n",
       "      <td>WHITE</td>\n",
       "      <td>2013-10-10</td>\n",
       "      <td>201310</td>\n",
       "    </tr>\n",
       "  </tbody>\n",
       "</table>\n",
       "<p>5 rows × 36 columns</p>\n",
       "</div>"
      ],
      "text/plain": [
       "       Summons Number  Plate ID Registration State  Violation Code  \\\n",
       "1609       1340313923   GEK8055                 NY              40   \n",
       "23367      1351679867  XE726658                 DE              20   \n",
       "24172      1351805253   42067JM                 NY              14   \n",
       "32902      1355051060   76254JY                 NY              46   \n",
       "32903      1355051071   44125MC                 NY              46   \n",
       "\n",
       "      Vehicle Body Type Vehicle Make Issuing Agency  Street Code1  \\\n",
       "1609               SUBN        HONDA              P         79630   \n",
       "23367               P-U        DODGE              P         90980   \n",
       "24172              DELV        FRUEH              P         25630   \n",
       "32902              DELV        FRUEH              P         68020   \n",
       "32903               VAN         FORD              P         68020   \n",
       "\n",
       "       Street Code2  Street Code3  ... From Hours In Effect  \\\n",
       "1609          40404         40404  ...                  ALL   \n",
       "23367             0             0  ...                  ALL   \n",
       "24172         13610         24985  ...                  ALL   \n",
       "32902         26760         66120  ...                  ALL   \n",
       "32903         26490         26520  ...                  ALL   \n",
       "\n",
       "      To Hours In Effect  Vehicle Year  Feet From Curb  Violation Post Code  \\\n",
       "1609                 ALL        2013.0             5.0              Unknown   \n",
       "23367                ALL        2002.0             0.0              Unknown   \n",
       "24172                ALL        1999.0             0.0              Unknown   \n",
       "32902                ALL        2007.0             0.0              Unknown   \n",
       "32903                ALL        2011.0             0.0              Unknown   \n",
       "\n",
       "      Violation Description Plate Type Vehicle Color Issue Date  \\\n",
       "1609                Unknown        PAS         BROWN 2013-10-23   \n",
       "23367               Unknown        PAS           RED 2013-10-21   \n",
       "24172               Unknown        COM         WHITE 2013-10-17   \n",
       "32902               Unknown        COM         WHITE 2013-10-10   \n",
       "32903               Unknown        COM         WHITE 2013-10-10   \n",
       "\n",
       "      Citation Issued Month Year  \n",
       "1609                      201310  \n",
       "23367                     201310  \n",
       "24172                     201310  \n",
       "32902                     201310  \n",
       "32903                     201310  \n",
       "\n",
       "[5 rows x 36 columns]"
      ]
     },
     "metadata": {},
     "output_type": "display_data"
    }
   ],
   "source": [
    "# Listing 5.27 Finding all citations that occured in October\n",
    "months = ['201310','201410','201510','201610','201710']\n",
    "condition = nyc_data_derived_stage5['Citation Issued Month Year'].isin(months)\n",
    "october_citations = nyc_data_derived_stage5[condition]\n",
    "with ProgressBar():\n",
    "    display(october_citations.head())"
   ]
  },
  {
   "cell_type": "code",
   "execution_count": 25,
   "metadata": {
    "collapsed": true,
    "jupyter": {
     "outputs_hidden": true
    },
    "scrolled": true
   },
   "outputs": [
    {
     "data": {
      "text/plain": [
       "Summons Number                        uint32\n",
       "Plate ID                              object\n",
       "Registration State                    object\n",
       "Violation Code                        uint16\n",
       "Vehicle Body Type                     object\n",
       "Vehicle Make                          object\n",
       "Issuing Agency                        object\n",
       "Street Code1                          uint32\n",
       "Street Code2                          uint32\n",
       "Street Code3                          uint32\n",
       "Vehicle Expiration Date               object\n",
       "Violation Location                    object\n",
       "Violation Precinct                   float32\n",
       "Issuer Precinct                      float32\n",
       "Issuer Code                          float32\n",
       "Issuer Command                        object\n",
       "Issuer Squad                          object\n",
       "Violation Time                        object\n",
       "Violation County                      object\n",
       "Violation In Front Of Or Opposite     object\n",
       "House Number                          object\n",
       "Street Name                           object\n",
       "Date First Observed                   object\n",
       "Law Section                          float32\n",
       "Sub Division                          object\n",
       "Days Parking In Effect                object\n",
       "From Hours In Effect                  object\n",
       "To Hours In Effect                    object\n",
       "Vehicle Year                         float32\n",
       "Feet From Curb                       float32\n",
       "Violation Post Code                   object\n",
       "Violation Description                 object\n",
       "Plate Type                            object\n",
       "Vehicle Color                         object\n",
       "Issue Date                            object\n",
       "Citation Issued Month Year            object\n",
       "dtype: object"
      ]
     },
     "execution_count": 25,
     "metadata": {},
     "output_type": "execute_result"
    }
   ],
   "source": [
    "nyc_data_derived_stage5.dtypes"
   ]
  },
  {
   "cell_type": "code",
   "execution_count": 26,
   "metadata": {},
   "outputs": [
    {
     "name": "stdout",
     "output_type": "stream",
     "text": [
      "[########################################] | 100% Completed | 30min 30.2s\n"
     ]
    }
   ],
   "source": [
    "# Listing 5.29 Setting an index on a DataFrame\n",
    "with ProgressBar():\n",
    "    condition = ((nyc_data_derived_stage5['Issue Date'] > '2014-01-01' ) & (nyc_data_derived_stage5['Issue Date'] <= '2017-12-31' ) )\n",
    "    nyc_data_filtered = nyc_data_derived_stage5[condition]\n",
    "    nyc_data_new_index = nyc_data_filtered.set_index('Citation Issued Month Year')"
   ]
  },
  {
   "cell_type": "code",
   "execution_count": 27,
   "metadata": {
    "collapsed": true,
    "jupyter": {
     "outputs_hidden": true
    }
   },
   "outputs": [
    {
     "name": "stdout",
     "output_type": "stream",
     "text": [
      "('201401', '201401', '201401', '201402', '201402', '201402', '201403', '201403', '201403', '201404', '201404', '201404', '201405', '201405', '201405', '201406', '201406', '201406', '201407', '201407', '201407', '201408', '201408', '201408', '201409', '201409', '201409', '201410', '201410', '201410', '201411', '201411', '201411', '201412', '201412', '201412', '201501', '201501', '201501', '201502', '201502', '201502', '201503', '201503', '201503', '201504', '201504', '201504', '201505', '201505', '201505', '201506', '201506', '201506', '201507', '201507', '201507', '201508', '201508', '201508', '201509', '201509', '201509', '201510', '201510', '201510', '201511', '201511', '201511', '201512', '201512', '201512', '201601', '201601', '201601', '201602', '201602', '201602', '201603', '201603', '201603', '201604', '201604', '201604', '201605', '201605', '201605', '201606', '201606', '201606', '201607', '201607', '201607', '201608', '201608', '201608', '201609', '201609', '201609', '201610', '201610', '201610', '201611', '201611', '201611', '201612', '201612', '201612', '201701', '201701', '201701', '201702', '201702', '201702', '201703', '201703', '201703', '201704', '201704', '201704', '201705', '201705', '201705', '201706', '201706', '201706', '201707', '201707', '201707', '201708', '201708', '201708', '201709', '201709', '201709', '201710', '201710', '201710', '201711', '201711', '201711', '201712', '201712')\n",
      "Dask Index Structure:\n",
      "npartitions=142\n",
      "201401    object\n",
      "201401       ...\n",
      "           ...  \n",
      "201712       ...\n",
      "201712       ...\n",
      "Name: Citation Issued Month Year, dtype: object\n",
      "Dask Name: sort_index, 5828 tasks\n"
     ]
    }
   ],
   "source": [
    "with ProgressBar():\n",
    "    print(nyc_data_new_index.divisions)\n",
    "    print(nyc_data_new_index.index)\n",
    "    #nyc_data_new_index.index=nyc_data_new_index.index.astype(int)\n",
    "    #print(nyc_data_new_index.index)\n",
    "    #print(nyc_data_derived_stage5.divisions)"
   ]
  },
  {
   "cell_type": "code",
   "execution_count": 28,
   "metadata": {},
   "outputs": [
    {
     "name": "stdout",
     "output_type": "stream",
     "text": [
      "[########################################] | 100% Completed | 45min 40.8s\n"
     ]
    }
   ],
   "source": [
    "# Listing 5.30 Repartitioning the data by moth/year\n",
    "years = ['2014', '2015', '2016', '2017']\n",
    "months = ['01','02','03','04','05','06','07','08','09','10','11','12']\n",
    "divisions = [year + month for year in years for month in months]\n",
    "with ProgressBar():\n",
    "    nyc_data_new_index.repartition(divisions=divisions).to_parquet('nyc_data_date_index', compression='snappy')\n",
    "nyc_data_new_index = dd.read_parquet('nyc_data_date_index')"
   ]
  },
  {
   "cell_type": "markdown",
   "metadata": {},
   "source": [
    "### Test: Illustrate the bug in small Dask DataFrame"
   ]
  },
  {
   "cell_type": "code",
   "execution_count": 256,
   "metadata": {},
   "outputs": [],
   "source": [
    "df = dd.from_array(np.arange(12).reshape((3,4)))\n",
    "df1 = df.rename(columns = {0: 'c1', 1: 'c2', 2: 'c3', 3: 'c4'})"
   ]
  },
  {
   "cell_type": "code",
   "execution_count": 257,
   "metadata": {},
   "outputs": [],
   "source": [
    "dates=pd.Series(['20140101','20140201', '20140301'])\n",
    "df2 = df1.assign(date=dates)"
   ]
  },
  {
   "cell_type": "code",
   "execution_count": 258,
   "metadata": {},
   "outputs": [],
   "source": [
    "dates_parsed = df2['date'].apply(lambda x: datetime.strptime(x, '%Y%m%d'), meta=datetime)"
   ]
  },
  {
   "cell_type": "code",
   "execution_count": 259,
   "metadata": {},
   "outputs": [],
   "source": [
    "df3 = df2.drop('date', axis=1)\n",
    "df4 = df3.assign(date=dates_parsed)"
   ]
  },
  {
   "cell_type": "code",
   "execution_count": 261,
   "metadata": {},
   "outputs": [],
   "source": [
    "yearmonth = df4['date'].apply(lambda x: x.strftime('%Y%m'), meta=int)"
   ]
  },
  {
   "cell_type": "code",
   "execution_count": 262,
   "metadata": {},
   "outputs": [],
   "source": [
    "df5 = df4.assign(year_month=yearmonth)"
   ]
  },
  {
   "cell_type": "code",
   "execution_count": 263,
   "metadata": {},
   "outputs": [],
   "source": [
    "df6 = df5.set_index('year_month')"
   ]
  },
  {
   "cell_type": "code",
   "execution_count": 267,
   "metadata": {},
   "outputs": [
    {
     "data": {
      "text/plain": [
       "('201401', '201403')"
      ]
     },
     "execution_count": 267,
     "metadata": {},
     "output_type": "execute_result"
    }
   ],
   "source": [
    "df6.divisions"
   ]
  },
  {
   "cell_type": "code",
   "execution_count": 269,
   "metadata": {},
   "outputs": [
    {
     "data": {
      "text/plain": [
       "Index(['201401', '201402', '201403'], dtype='object', name='year_month')"
      ]
     },
     "execution_count": 269,
     "metadata": {},
     "output_type": "execute_result"
    }
   ],
   "source": [
    "df6.index.compute()"
   ]
  },
  {
   "cell_type": "code",
   "execution_count": 203,
   "metadata": {},
   "outputs": [
    {
     "data": {
      "text/plain": [
       "Timestamp('2014-01-01 00:00:00')"
      ]
     },
     "execution_count": 203,
     "metadata": {},
     "output_type": "execute_result"
    }
   ],
   "source": [
    "df1['date'].min().compute()"
   ]
  },
  {
   "cell_type": "code",
   "execution_count": 206,
   "metadata": {},
   "outputs": [],
   "source": [
    "df2 = df1.drop('date', axis=1)"
   ]
  },
  {
   "cell_type": "code",
   "execution_count": 207,
   "metadata": {},
   "outputs": [],
   "source": [
    "df3 = df2.assign(year_month=yearmonth)"
   ]
  },
  {
   "cell_type": "code",
   "execution_count": 212,
   "metadata": {},
   "outputs": [],
   "source": [
    "df4 = df3.set_index('year_month')"
   ]
  },
  {
   "cell_type": "markdown",
   "metadata": {},
   "source": [
    "## 5.6 Joining and concatenating DataFrames"
   ]
  },
  {
   "cell_type": "code",
   "execution_count": 76,
   "metadata": {},
   "outputs": [],
   "source": [
    "nyc_data_new_index = dd.read_parquet('nyc_data_date_index')"
   ]
  },
  {
   "cell_type": "code",
   "execution_count": 26,
   "metadata": {
    "collapsed": true,
    "jupyter": {
     "outputs_hidden": true
    }
   },
   "outputs": [
    {
     "name": "stdout",
     "output_type": "stream",
     "text": [
      "[########################################] | 100% Completed |  2.0s\n"
     ]
    },
    {
     "name": "stderr",
     "output_type": "stream",
     "text": [
      "/Library/Frameworks/Python.framework/Versions/3.6/lib/python3.6/site-packages/dask/dataframe/core.py:6194: UserWarning: Insufficient elements for `head`. 15 elements requested, only 0 elements available. Try passing larger `npartitions` to `head`.\n",
      "  warnings.warn(msg.format(n, len(r)))\n"
     ]
    },
    {
     "data": {
      "text/html": [
       "<div>\n",
       "<style scoped>\n",
       "    .dataframe tbody tr th:only-of-type {\n",
       "        vertical-align: middle;\n",
       "    }\n",
       "\n",
       "    .dataframe tbody tr th {\n",
       "        vertical-align: top;\n",
       "    }\n",
       "\n",
       "    .dataframe thead th {\n",
       "        text-align: right;\n",
       "    }\n",
       "</style>\n",
       "<table border=\"1\" class=\"dataframe\">\n",
       "  <thead>\n",
       "    <tr style=\"text-align: right;\">\n",
       "      <th></th>\n",
       "      <th>Summons Number</th>\n",
       "      <th>Plate ID</th>\n",
       "      <th>Registration State</th>\n",
       "      <th>Violation Code</th>\n",
       "      <th>Vehicle Body Type</th>\n",
       "      <th>Vehicle Make</th>\n",
       "      <th>Issuing Agency</th>\n",
       "      <th>Street Code1</th>\n",
       "      <th>Street Code2</th>\n",
       "      <th>Street Code3</th>\n",
       "      <th>...</th>\n",
       "      <th>To Hours In Effect</th>\n",
       "      <th>Vehicle Year</th>\n",
       "      <th>Feet From Curb</th>\n",
       "      <th>Violation Post Code</th>\n",
       "      <th>Violation Description</th>\n",
       "      <th>Plate Type</th>\n",
       "      <th>Vehicle Color</th>\n",
       "      <th>Issue Date</th>\n",
       "      <th>monthYear</th>\n",
       "      <th>Temp</th>\n",
       "    </tr>\n",
       "    <tr>\n",
       "      <th>Citation Issued Month Year</th>\n",
       "      <th></th>\n",
       "      <th></th>\n",
       "      <th></th>\n",
       "      <th></th>\n",
       "      <th></th>\n",
       "      <th></th>\n",
       "      <th></th>\n",
       "      <th></th>\n",
       "      <th></th>\n",
       "      <th></th>\n",
       "      <th></th>\n",
       "      <th></th>\n",
       "      <th></th>\n",
       "      <th></th>\n",
       "      <th></th>\n",
       "      <th></th>\n",
       "      <th></th>\n",
       "      <th></th>\n",
       "      <th></th>\n",
       "      <th></th>\n",
       "      <th></th>\n",
       "    </tr>\n",
       "  </thead>\n",
       "  <tbody>\n",
       "  </tbody>\n",
       "</table>\n",
       "<p>0 rows × 37 columns</p>\n",
       "</div>"
      ],
      "text/plain": [
       "Empty DataFrame\n",
       "Columns: [Summons Number, Plate ID, Registration State, Violation Code, Vehicle Body Type, Vehicle Make, Issuing Agency, Street Code1, Street Code2, Street Code3, Vehicle Expiration Date, Violation Location, Violation Precinct, Issuer Precinct, Issuer Code, Issuer Command, Issuer Squad, Violation Time, Violation County, Violation In Front Of Or Opposite, House Number, Street Name, Date First Observed, Law Section, Sub Division, Days Parking In Effect    , From Hours In Effect, To Hours In Effect, Vehicle Year, Feet From Curb, Violation Post Code, Violation Description, Plate Type, Vehicle Color, Issue Date, monthYear, Temp]\n",
       "Index: []\n",
       "\n",
       "[0 rows x 37 columns]"
      ]
     },
     "metadata": {},
     "output_type": "display_data"
    }
   ],
   "source": [
    "# Listing 5.31 Combining the NYC parking  ticket data with NOAA weather data\n",
    "nyc_temps = pd.read_csv('nyc_temp_data.csv', skiprows=3)\n",
    "nyc_temps.rename(columns={'Date': 'monthYear', 'Value': 'Temp'}, inplace=True)\n",
    "nyc_temps_indexed = nyc_temps.set_index(nyc_temps.monthYear.astype(str))\n",
    "nyc_temps_indexed.index.rename (nyc_data_new_index.index.name, inplace=True)\n",
    "\n",
    "#nyc_data_with_temps = nyc_data_new_index.join(nyc_temps_indexed, how='left')\n",
    "nyc_data_with_temps = nyc_data_new_index.merge(nyc_temps_indexed, left_index=True, right_index=True, how='left')\n",
    "with ProgressBar():\n",
    "#    nyc_data_new_index_head = nyc_data_new_index.head(15)\n",
    "    display(nyc_data_with_temps.head(15))\n"
   ]
  },
  {
   "cell_type": "markdown",
   "metadata": {},
   "source": [
    "### Assign the temperatures by hand\n",
    "Since the temperatures can not be joined to the dask DF, below, we assign 'Temp' column by the function, 'apply()'."
   ]
  },
  {
   "cell_type": "code",
   "execution_count": 149,
   "metadata": {
    "collapsed": true,
    "jupyter": {
     "outputs_hidden": true
    }
   },
   "outputs": [
    {
     "name": "stdout",
     "output_type": "stream",
     "text": [
      "[########################################] | 100% Completed | 19.2s\n",
      "                            Summons Number Plate ID Registration State  \\\n",
      "Citation Issued Month Year                                               \n",
      "201401                          1358823066  GHN9424                 NY   \n",
      "201401                          1376177535  97158MC                 NY   \n",
      "201401                          1376177535  97158MC                 NY   \n",
      "201401                          1375549352  49929JG                 NY   \n",
      "201401                          1376485916  21638BB                 NY   \n",
      "\n",
      "                            Violation Code Vehicle Body Type Vehicle Make  \\\n",
      "Citation Issued Month Year                                                  \n",
      "201401                                  70               SDN        ACURA   \n",
      "201401                                  46              DELV        ISUZU   \n",
      "201401                                  46              DELV        ISUZU   \n",
      "201401                                  51               VAN          GMC   \n",
      "201401                                  79               BUS         FORD   \n",
      "\n",
      "                           Issuing Agency  Street Code1  Street Code2  \\\n",
      "Citation Issued Month Year                                              \n",
      "201401                                  P         77650         58620   \n",
      "201401                                  P         17510         27800   \n",
      "201401                                  P         17510         27800   \n",
      "201401                                  O         31490         29590   \n",
      "201401                                  P             0             0   \n",
      "\n",
      "                            Street Code3  ... From Hours In Effect  \\\n",
      "Citation Issued Month Year                ...                        \n",
      "201401                             53720  ...                  ALL   \n",
      "201401                             24890  ...                  ALL   \n",
      "201401                             24890  ...                  ALL   \n",
      "201401                             28990  ...                  ALL   \n",
      "201401                                 0  ...                  ALL   \n",
      "\n",
      "                           To Hours In Effect  Vehicle Year  Feet From Curb  \\\n",
      "Citation Issued Month Year                                                    \n",
      "201401                                    ALL        2004.0             0.0   \n",
      "201401                                    ALL        2013.0             0.0   \n",
      "201401                                    ALL        2013.0             0.0   \n",
      "201401                                    ALL        1990.0             0.0   \n",
      "201401                                    ALL           0.0             0.0   \n",
      "\n",
      "                            Violation Post Code Violation Description  \\\n",
      "Citation Issued Month Year                                              \n",
      "201401                                  Unknown               Unknown   \n",
      "201401                                  Unknown               Unknown   \n",
      "201401                                  Unknown               Unknown   \n",
      "201401                                  Unknown               Unknown   \n",
      "201401                                  Unknown               Unknown   \n",
      "\n",
      "                           Plate Type Vehicle Color Issue Date  Temp  \n",
      "Citation Issued Month Year                                            \n",
      "201401                            PAS          GREY 2014-01-28  28.7  \n",
      "201401                            COM         WHITE 2014-01-13  28.7  \n",
      "201401                            COM         WHITE 2014-01-13  28.7  \n",
      "201401                            COM         BROWN 2014-01-20  28.7  \n",
      "201401                          other            WH 2014-01-05  28.7  \n",
      "\n",
      "[5 rows x 36 columns]\n"
     ]
    }
   ],
   "source": [
    "issued_temps = nyc_data_new_index['Issue Date'].apply(lambda dt: nyc_temps_indexed.at[dt.strftime(\"%Y%m\"),'Temp'], meta=float)\n",
    "#issued_monthYear = nyc_data_new_index['Issue Date'].apply(lambda dt: dt.strftime(\"%Y%m\"), meta=str)\n",
    "with ProgressBar():\n",
    "    # nyc_data_with_temps = nyc_data_new_index.assign(monthYear=lambda x: nyc_temps_indexed['Temp'][x['Issue Date'].strftime(\"%Y%m\")])\n",
    "    nyc_data_with_temps = nyc_data_new_index.assign(Temp=issued_temps)\n",
    "    print(nyc_data_with_temps.head(15))"
   ]
  },
  {
   "cell_type": "markdown",
   "metadata": {},
   "source": [
    "# Chapter 6 Summarizing and analyzing DataFrames"
   ]
  },
  {
   "cell_type": "code",
   "execution_count": 154,
   "metadata": {},
   "outputs": [],
   "source": [
    "#nyc_data = dd.read_parquet('nyc_data_date_index', engine='pyarrow')\n",
    "nyc_data = nyc_data_with_temps"
   ]
  },
  {
   "cell_type": "markdown",
   "metadata": {},
   "source": [
    "## 6.1 Descriptive statistics"
   ]
  },
  {
   "cell_type": "code",
   "execution_count": 195,
   "metadata": {
    "collapsed": true,
    "jupyter": {
     "outputs_hidden": true
    }
   },
   "outputs": [
    {
     "name": "stdout",
     "output_type": "stream",
     "text": [
      "[########################################] | 100% Completed |  5min  3.4s\n"
     ]
    },
    {
     "data": {
      "text/plain": [
       "2013.0    2846851\n",
       "2014.0    2733039\n",
       "2015.0    2363782\n",
       "2012.0    2070360\n",
       "2007.0    1801081\n",
       "2011.0    1683653\n",
       "2006.0    1600032\n",
       "2008.0    1528735\n",
       "2005.0    1470302\n",
       "2010.0    1362354\n",
       "2004.0    1345823\n",
       "2016.0    1223766\n",
       "2009.0    1210117\n",
       "2003.0    1155400\n",
       "2002.0    1001788\n",
       "2001.0     857291\n",
       "1999.0     535844\n",
       "1998.0     417273\n",
       "1997.0     372041\n",
       "2017.0     243434\n",
       "1996.0     219047\n",
       "1995.0     201606\n",
       "1994.0      93404\n",
       "1990.0      77031\n",
       "1988.0      69377\n",
       "1993.0      65870\n",
       "1992.0      60789\n",
       "1989.0      41674\n",
       "1987.0      32087\n",
       "1991.0      29877\n",
       "1986.0      23731\n",
       "1985.0      10365\n",
       "1984.0       5351\n",
       "1983.0       3277\n",
       "1982.0       2164\n",
       "1980.0       1996\n",
       "1979.0       1887\n",
       "1981.0       1877\n",
       "1978.0       1481\n",
       "1977.0       1276\n",
       "1971.0        981\n",
       "1973.0        977\n",
       "1972.0        971\n",
       "1975.0        949\n",
       "1976.0        910\n",
       "1974.0        786\n",
       "1970.0        775\n",
       "Name: Vehicle Year, dtype: int64"
      ]
     },
     "execution_count": 195,
     "metadata": {},
     "output_type": "execute_result"
    }
   ],
   "source": [
    "# Listing\n",
    "with ProgressBar():\n",
    "    vehicle_age_by_year = nyc_data['Vehicle Year'].value_counts().compute()\n",
    "vehicle_age_by_year"
   ]
  },
  {
   "cell_type": "code",
   "execution_count": 156,
   "metadata": {
    "collapsed": true,
    "jupyter": {
     "outputs_hidden": true
    }
   },
   "outputs": [
    {
     "name": "stdout",
     "output_type": "stream",
     "text": [
      "[########################################] | 100% Completed | 11min 22.6s\n"
     ]
    },
    {
     "data": {
      "text/plain": [
       "1970.0        775\n",
       "1971.0        981\n",
       "1972.0        971\n",
       "1973.0        977\n",
       "1974.0        786\n",
       "1975.0        949\n",
       "1976.0        910\n",
       "1977.0       1276\n",
       "1978.0       1481\n",
       "1979.0       1887\n",
       "1980.0       1996\n",
       "1981.0       1877\n",
       "1982.0       2164\n",
       "1983.0       3277\n",
       "1984.0       5351\n",
       "1985.0      10365\n",
       "1986.0      23731\n",
       "1987.0      32087\n",
       "1988.0      69377\n",
       "1989.0      41674\n",
       "1990.0      77031\n",
       "1991.0      29877\n",
       "1992.0      60789\n",
       "1993.0      65870\n",
       "1994.0      93404\n",
       "1995.0     201606\n",
       "1996.0     219047\n",
       "1997.0     372041\n",
       "1998.0     417273\n",
       "1999.0     535844\n",
       "2001.0     857291\n",
       "2002.0    1001788\n",
       "2003.0    1155400\n",
       "2004.0    1345823\n",
       "2005.0    1470302\n",
       "2006.0    1600032\n",
       "2007.0    1801081\n",
       "2008.0    1528735\n",
       "2009.0    1210117\n",
       "2010.0    1362354\n",
       "2011.0    1683653\n",
       "2012.0    2070360\n",
       "2013.0    2846851\n",
       "2014.0    2733039\n",
       "2015.0    2423990\n",
       "2016.0    1280706\n",
       "2017.0     297496\n",
       "2018.0       2491\n",
       "Name: Vehicle Year, dtype: int64"
      ]
     },
     "execution_count": 156,
     "metadata": {},
     "output_type": "execute_result"
    }
   ],
   "source": [
    "# Listing 6.3 Filtering out the bad data\n",
    "with ProgressBar():\n",
    "    condition = (nyc_data['Vehicle Year']>0) & (nyc_data['Vehicle Year'] <= 2018)\n",
    "    vehicle_age_by_year = nyc_data[condition]['Vehicle Year'].value_counts().compute().sort_index()\n",
    "vehicle_age_by_year"
   ]
  },
  {
   "cell_type": "code",
   "execution_count": 157,
   "metadata": {},
   "outputs": [],
   "source": [
    "# Lisint 6.4 Calculating the vehicle age at the issue date\n",
    "nyc_data_filtered = nyc_data[condition]\n",
    "\n",
    "def age_calculation(row):\n",
    "    return int(row['Issue Date'].year) - int(row['Vehicle Year'])\n",
    "\n",
    "vehicle_age = nyc_data_filtered.apply(age_calculation, axis=1, meta=('Vehicle Age', int))\n",
    "nyc_data_vehicle_age_stg1 = nyc_data_filtered.assign(VehicleAge=vehicle_age)\n",
    "nyc_data_vehicle_age_stg2 = nyc_data_vehicle_age_stg1.rename(columns={'VehicleAge': 'Vehicle Age'})\n",
    "nyc_data_vehicle_age = nyc_data_vehicle_age_stg2[nyc_data_vehicle_age_stg2['Vehicle Age'] >= 0]"
   ]
  },
  {
   "cell_type": "code",
   "execution_count": 180,
   "metadata": {},
   "outputs": [
    {
     "name": "stdout",
     "output_type": "stream",
     "text": [
      "[########################################] | 100% Completed | 30.1s\n"
     ]
    },
    {
     "data": {
      "text/html": [
       "<div>\n",
       "<style scoped>\n",
       "    .dataframe tbody tr th:only-of-type {\n",
       "        vertical-align: middle;\n",
       "    }\n",
       "\n",
       "    .dataframe tbody tr th {\n",
       "        vertical-align: top;\n",
       "    }\n",
       "\n",
       "    .dataframe thead th {\n",
       "        text-align: right;\n",
       "    }\n",
       "</style>\n",
       "<table border=\"1\" class=\"dataframe\">\n",
       "  <thead>\n",
       "    <tr style=\"text-align: right;\">\n",
       "      <th></th>\n",
       "      <th>Summons Number</th>\n",
       "      <th>Plate ID</th>\n",
       "      <th>Registration State</th>\n",
       "      <th>Violation Code</th>\n",
       "      <th>Vehicle Body Type</th>\n",
       "      <th>Vehicle Make</th>\n",
       "      <th>Issuing Agency</th>\n",
       "      <th>Street Code1</th>\n",
       "      <th>Street Code2</th>\n",
       "      <th>Street Code3</th>\n",
       "      <th>...</th>\n",
       "      <th>Vehicle Year</th>\n",
       "      <th>Feet From Curb</th>\n",
       "      <th>Violation Post Code</th>\n",
       "      <th>Violation Description</th>\n",
       "      <th>Plate Type</th>\n",
       "      <th>Vehicle Color</th>\n",
       "      <th>Issue Date</th>\n",
       "      <th>Temp</th>\n",
       "      <th>Vehicle Age</th>\n",
       "      <th>monthYear</th>\n",
       "    </tr>\n",
       "    <tr>\n",
       "      <th>Citation Issued Month Year</th>\n",
       "      <th></th>\n",
       "      <th></th>\n",
       "      <th></th>\n",
       "      <th></th>\n",
       "      <th></th>\n",
       "      <th></th>\n",
       "      <th></th>\n",
       "      <th></th>\n",
       "      <th></th>\n",
       "      <th></th>\n",
       "      <th></th>\n",
       "      <th></th>\n",
       "      <th></th>\n",
       "      <th></th>\n",
       "      <th></th>\n",
       "      <th></th>\n",
       "      <th></th>\n",
       "      <th></th>\n",
       "      <th></th>\n",
       "      <th></th>\n",
       "      <th></th>\n",
       "    </tr>\n",
       "  </thead>\n",
       "  <tbody>\n",
       "    <tr>\n",
       "      <th>201401</th>\n",
       "      <td>1358823066</td>\n",
       "      <td>GHN9424</td>\n",
       "      <td>NY</td>\n",
       "      <td>70</td>\n",
       "      <td>SDN</td>\n",
       "      <td>ACURA</td>\n",
       "      <td>P</td>\n",
       "      <td>77650</td>\n",
       "      <td>58620</td>\n",
       "      <td>53720</td>\n",
       "      <td>...</td>\n",
       "      <td>2004.0</td>\n",
       "      <td>0.0</td>\n",
       "      <td>Unknown</td>\n",
       "      <td>Unknown</td>\n",
       "      <td>PAS</td>\n",
       "      <td>GREY</td>\n",
       "      <td>2014-01-28</td>\n",
       "      <td>28.7</td>\n",
       "      <td>10</td>\n",
       "      <td>201401</td>\n",
       "    </tr>\n",
       "    <tr>\n",
       "      <th>201401</th>\n",
       "      <td>1376177535</td>\n",
       "      <td>97158MC</td>\n",
       "      <td>NY</td>\n",
       "      <td>46</td>\n",
       "      <td>DELV</td>\n",
       "      <td>ISUZU</td>\n",
       "      <td>P</td>\n",
       "      <td>17510</td>\n",
       "      <td>27800</td>\n",
       "      <td>24890</td>\n",
       "      <td>...</td>\n",
       "      <td>2013.0</td>\n",
       "      <td>0.0</td>\n",
       "      <td>Unknown</td>\n",
       "      <td>Unknown</td>\n",
       "      <td>COM</td>\n",
       "      <td>WHITE</td>\n",
       "      <td>2014-01-13</td>\n",
       "      <td>28.7</td>\n",
       "      <td>1</td>\n",
       "      <td>201401</td>\n",
       "    </tr>\n",
       "    <tr>\n",
       "      <th>201401</th>\n",
       "      <td>1376177535</td>\n",
       "      <td>97158MC</td>\n",
       "      <td>NY</td>\n",
       "      <td>46</td>\n",
       "      <td>DELV</td>\n",
       "      <td>ISUZU</td>\n",
       "      <td>P</td>\n",
       "      <td>17510</td>\n",
       "      <td>27800</td>\n",
       "      <td>24890</td>\n",
       "      <td>...</td>\n",
       "      <td>2013.0</td>\n",
       "      <td>0.0</td>\n",
       "      <td>Unknown</td>\n",
       "      <td>Unknown</td>\n",
       "      <td>COM</td>\n",
       "      <td>WHITE</td>\n",
       "      <td>2014-01-13</td>\n",
       "      <td>28.7</td>\n",
       "      <td>1</td>\n",
       "      <td>201401</td>\n",
       "    </tr>\n",
       "    <tr>\n",
       "      <th>201401</th>\n",
       "      <td>1375549352</td>\n",
       "      <td>49929JG</td>\n",
       "      <td>NY</td>\n",
       "      <td>51</td>\n",
       "      <td>VAN</td>\n",
       "      <td>GMC</td>\n",
       "      <td>O</td>\n",
       "      <td>31490</td>\n",
       "      <td>29590</td>\n",
       "      <td>28990</td>\n",
       "      <td>...</td>\n",
       "      <td>1990.0</td>\n",
       "      <td>0.0</td>\n",
       "      <td>Unknown</td>\n",
       "      <td>Unknown</td>\n",
       "      <td>COM</td>\n",
       "      <td>BROWN</td>\n",
       "      <td>2014-01-20</td>\n",
       "      <td>28.7</td>\n",
       "      <td>24</td>\n",
       "      <td>201401</td>\n",
       "    </tr>\n",
       "    <tr>\n",
       "      <th>201401</th>\n",
       "      <td>1376129267</td>\n",
       "      <td>FHP1194</td>\n",
       "      <td>NY</td>\n",
       "      <td>20</td>\n",
       "      <td>SDN</td>\n",
       "      <td>FORD</td>\n",
       "      <td>P</td>\n",
       "      <td>0</td>\n",
       "      <td>40404</td>\n",
       "      <td>40404</td>\n",
       "      <td>...</td>\n",
       "      <td>2010.0</td>\n",
       "      <td>0.0</td>\n",
       "      <td>Unknown</td>\n",
       "      <td>Unknown</td>\n",
       "      <td>PAS</td>\n",
       "      <td>WHITE</td>\n",
       "      <td>2014-01-09</td>\n",
       "      <td>28.7</td>\n",
       "      <td>4</td>\n",
       "      <td>201401</td>\n",
       "    </tr>\n",
       "  </tbody>\n",
       "</table>\n",
       "<p>5 rows × 38 columns</p>\n",
       "</div>"
      ],
      "text/plain": [
       "                            Summons Number Plate ID Registration State  \\\n",
       "Citation Issued Month Year                                               \n",
       "201401                          1358823066  GHN9424                 NY   \n",
       "201401                          1376177535  97158MC                 NY   \n",
       "201401                          1376177535  97158MC                 NY   \n",
       "201401                          1375549352  49929JG                 NY   \n",
       "201401                          1376129267  FHP1194                 NY   \n",
       "\n",
       "                            Violation Code Vehicle Body Type Vehicle Make  \\\n",
       "Citation Issued Month Year                                                  \n",
       "201401                                  70               SDN        ACURA   \n",
       "201401                                  46              DELV        ISUZU   \n",
       "201401                                  46              DELV        ISUZU   \n",
       "201401                                  51               VAN          GMC   \n",
       "201401                                  20               SDN         FORD   \n",
       "\n",
       "                           Issuing Agency  Street Code1  Street Code2  \\\n",
       "Citation Issued Month Year                                              \n",
       "201401                                  P         77650         58620   \n",
       "201401                                  P         17510         27800   \n",
       "201401                                  P         17510         27800   \n",
       "201401                                  O         31490         29590   \n",
       "201401                                  P             0         40404   \n",
       "\n",
       "                            Street Code3  ... Vehicle Year Feet From Curb  \\\n",
       "Citation Issued Month Year                ...                               \n",
       "201401                             53720  ...       2004.0            0.0   \n",
       "201401                             24890  ...       2013.0            0.0   \n",
       "201401                             24890  ...       2013.0            0.0   \n",
       "201401                             28990  ...       1990.0            0.0   \n",
       "201401                             40404  ...       2010.0            0.0   \n",
       "\n",
       "                            Violation Post Code  Violation Description  \\\n",
       "Citation Issued Month Year                                               \n",
       "201401                                  Unknown                Unknown   \n",
       "201401                                  Unknown                Unknown   \n",
       "201401                                  Unknown                Unknown   \n",
       "201401                                  Unknown                Unknown   \n",
       "201401                                  Unknown                Unknown   \n",
       "\n",
       "                            Plate Type Vehicle Color Issue Date  Temp  \\\n",
       "Citation Issued Month Year                                              \n",
       "201401                             PAS          GREY 2014-01-28  28.7   \n",
       "201401                             COM         WHITE 2014-01-13  28.7   \n",
       "201401                             COM         WHITE 2014-01-13  28.7   \n",
       "201401                             COM         BROWN 2014-01-20  28.7   \n",
       "201401                             PAS         WHITE 2014-01-09  28.7   \n",
       "\n",
       "                           Vehicle Age monthYear  \n",
       "Citation Issued Month Year                        \n",
       "201401                              10    201401  \n",
       "201401                               1    201401  \n",
       "201401                               1    201401  \n",
       "201401                              24    201401  \n",
       "201401                               4    201401  \n",
       "\n",
       "[5 rows x 38 columns]"
      ]
     },
     "execution_count": 180,
     "metadata": {},
     "output_type": "execute_result"
    }
   ],
   "source": [
    "with ProgressBar():\n",
    "    nyc_data_vehicle_age_monthYear.head()"
   ]
  },
  {
   "cell_type": "code",
   "execution_count": 159,
   "metadata": {},
   "outputs": [
    {
     "name": "stdout",
     "output_type": "stream",
     "text": [
      "[########################################] | 100% Completed | 22min  6.6s\n"
     ]
    }
   ],
   "source": [
    "# Listing 6.5 Saving the intermediate results to Parquet\n",
    "with ProgressBar():\n",
    "    files = nyc_data_vehicle_age.to_parquet('nyc_data_vehicleAge', engine=\"pyarrow\")"
   ]
  },
  {
   "cell_type": "code",
   "execution_count": 6,
   "metadata": {},
   "outputs": [],
   "source": [
    "nyc_data_with_vehicle_age = dd.read_parquet('nyc_data_vehicleAge', engine='pyarrow')"
   ]
  },
  {
   "cell_type": "code",
   "execution_count": 30,
   "metadata": {},
   "outputs": [
    {
     "name": "stdout",
     "output_type": "stream",
     "text": [
      "[########################################] | 100% Completed |  2.5s\n",
      "[########################################] | 100% Completed |  2.5s\n",
      "[########################################] | 100% Completed |  2.3s\n",
      "[########################################] | 100% Completed |  2.3s\n",
      "[########################################] | 100% Completed | 59.8s\n"
     ]
    }
   ],
   "source": [
    "# Listing 6.6 Calculating descriptive statistics\n",
    "from dask.array import stats as dask_stats\n",
    "with ProgressBar():\n",
    "    mean = nyc_data_with_vehicle_age['Vehicle Age'].mean().compute()\n",
    "    stdev = nyc_data_with_vehicle_age['Vehicle Age'].std().compute()\n",
    "    minimum = nyc_data_with_vehicle_age['Vehicle Age'].min().compute()\n",
    "    maximum = nyc_data_with_vehicle_age['Vehicle Age'].max().compute()\n",
    "    skewness = float(dask_stats.skew(nyc_data_with_vehicle_age['Vehicle Age'].values).compute())"
   ]
  },
  {
   "cell_type": "code",
   "execution_count": 72,
   "metadata": {},
   "outputs": [
    {
     "name": "stdout",
     "output_type": "stream",
     "text": [
      "    mean: 6.742\n",
      "   stdev: 5.656\n",
      " minimum: 0\n",
      " maximum: 47\n",
      "skewness: 1.012\n"
     ]
    }
   ],
   "source": [
    "print('{:>8}: {:.3f}'.format('mean', mean))\n",
    "print('{:>8}: {:.3f}'.format('stdev', stdev))\n",
    "print('{:>8}: {:d}'.format('minimum', minimum))\n",
    "print('{:>8}: {:d}'.format('maximum', maximum))\n",
    "print('{:>8}: {:.3f}'.format('skewness', skewness))\n"
   ]
  },
  {
   "cell_type": "code",
   "execution_count": 162,
   "metadata": {
    "collapsed": true,
    "jupyter": {
     "outputs_hidden": true
    }
   },
   "outputs": [
    {
     "name": "stdout",
     "output_type": "stream",
     "text": [
      "[########################################] | 100% Completed |  2.7s\n"
     ]
    },
    {
     "data": {
      "text/plain": [
       "count    28773482.00\n",
       "mean            6.74\n",
       "std             5.66\n",
       "min             0.00\n",
       "25%             4.00\n",
       "50%             8.00\n",
       "75%            13.00\n",
       "max            47.00\n",
       "Name: Vehicle Age, dtype: float64"
      ]
     },
     "execution_count": 162,
     "metadata": {},
     "output_type": "execute_result"
    }
   ],
   "source": [
    "# Listing 6.7 Calculating a bunch of descriptive statistics\n",
    "with ProgressBar():\n",
    "    descriptive_stats = nyc_data_with_vehicle_age['Vehicle Age'].describe().compute()\n",
    "descriptive_stats.round(2)"
   ]
  },
  {
   "cell_type": "code",
   "execution_count": 184,
   "metadata": {},
   "outputs": [],
   "source": [
    "# Lising 6.8 custom sorting for the month-year column\n",
    "years = ['2014', '2015', '2016', '2017']\n",
    "months = ['01','02','03','04','05','06','07','08','09','10','11','12']\n",
    "years_months = [year + month for year in years for month in months]\n",
    "sort_order = pd.Series(range(len(years_months)), index=years_months, name='custom_sort')\n",
    "\n",
    "def sort_by_months(dataframe, order):\n",
    "    return dataframe.join(order).sort_values('custom_sort').drop('custom_sort', axis=1)"
   ]
  },
  {
   "cell_type": "code",
   "execution_count": 182,
   "metadata": {
    "collapsed": true,
    "jupyter": {
     "outputs_hidden": true
    }
   },
   "outputs": [
    {
     "name": "stdout",
     "output_type": "stream",
     "text": [
      "[########################################] | 100% Completed |  5min  8.8s\n"
     ]
    },
    {
     "ename": "NameError",
     "evalue": "name 'sort_by_month' is not defined",
     "output_type": "error",
     "traceback": [
      "\u001b[0;31m---------------------------------------------------------------------------\u001b[0m",
      "\u001b[0;31mNameError\u001b[0m                                 Traceback (most recent call last)",
      "\u001b[0;32m<ipython-input-182-df20a9d4965c>\u001b[0m in \u001b[0;36m<module>\u001b[0;34m\u001b[0m\n\u001b[1;32m      5\u001b[0m     \u001b[0mnyc_data_by_month\u001b[0m \u001b[0;34m=\u001b[0m \u001b[0mnyc_data\u001b[0m\u001b[0;34m.\u001b[0m\u001b[0mgroupby\u001b[0m\u001b[0;34m(\u001b[0m\u001b[0;34m'monthYear'\u001b[0m\u001b[0;34m)\u001b[0m\u001b[0;34m\u001b[0m\u001b[0;34m\u001b[0m\u001b[0m\n\u001b[1;32m      6\u001b[0m     \u001b[0mcitations_per_month\u001b[0m \u001b[0;34m=\u001b[0m \u001b[0mnyc_data_by_month\u001b[0m\u001b[0;34m[\u001b[0m\u001b[0;34m'Summons Number'\u001b[0m\u001b[0;34m]\u001b[0m\u001b[0;34m.\u001b[0m\u001b[0mcount\u001b[0m\u001b[0;34m(\u001b[0m\u001b[0;34m)\u001b[0m\u001b[0;34m.\u001b[0m\u001b[0mcompute\u001b[0m\u001b[0;34m(\u001b[0m\u001b[0;34m)\u001b[0m\u001b[0;34m\u001b[0m\u001b[0;34m\u001b[0m\u001b[0m\n\u001b[0;32m----> 7\u001b[0;31m \u001b[0msort_by_month\u001b[0m\u001b[0;34m(\u001b[0m\u001b[0mcitations_per_month\u001b[0m\u001b[0;34m.\u001b[0m\u001b[0mto_frame\u001b[0m\u001b[0;34m(\u001b[0m\u001b[0;34m)\u001b[0m\u001b[0;34m,\u001b[0m \u001b[0msort_order\u001b[0m\u001b[0;34m)\u001b[0m\u001b[0;34m\u001b[0m\u001b[0;34m\u001b[0m\u001b[0m\n\u001b[0m",
      "\u001b[0;31mNameError\u001b[0m: name 'sort_by_month' is not defined"
     ]
    }
   ],
   "source": [
    "# listing 6.9 counting citation by month-year\n",
    "col_monthYear = nyc_data_with_vehicle_age['Issue Date'].apply(lambda dt: dt.strftime(\"%Y%m\"), meta=str)\n",
    "nyc_data = nyc_data_with_vehicle_age.assign(monthYear=col_monthYear)\n",
    "with ProgressBar():\n",
    "    nyc_data_by_month = nyc_data.groupby('monthYear')\n",
    "    citations_per_month = nyc_data_by_month['Summons Number'].count().compute()\n",
    "sort_by_month(citations_per_month.to_frame(), sort_order) "
   ]
  },
  {
   "cell_type": "code",
   "execution_count": 185,
   "metadata": {
    "collapsed": true,
    "jupyter": {
     "outputs_hidden": true
    }
   },
   "outputs": [
    {
     "data": {
      "text/html": [
       "<div>\n",
       "<style scoped>\n",
       "    .dataframe tbody tr th:only-of-type {\n",
       "        vertical-align: middle;\n",
       "    }\n",
       "\n",
       "    .dataframe tbody tr th {\n",
       "        vertical-align: top;\n",
       "    }\n",
       "\n",
       "    .dataframe thead th {\n",
       "        text-align: right;\n",
       "    }\n",
       "</style>\n",
       "<table border=\"1\" class=\"dataframe\">\n",
       "  <thead>\n",
       "    <tr style=\"text-align: right;\">\n",
       "      <th></th>\n",
       "      <th>Summons Number</th>\n",
       "    </tr>\n",
       "    <tr>\n",
       "      <th>monthYear</th>\n",
       "      <th></th>\n",
       "    </tr>\n",
       "  </thead>\n",
       "  <tbody>\n",
       "    <tr>\n",
       "      <th>201401</th>\n",
       "      <td>525928</td>\n",
       "    </tr>\n",
       "    <tr>\n",
       "      <th>201402</th>\n",
       "      <td>479139</td>\n",
       "    </tr>\n",
       "    <tr>\n",
       "      <th>201403</th>\n",
       "      <td>670085</td>\n",
       "    </tr>\n",
       "    <tr>\n",
       "      <th>201404</th>\n",
       "      <td>657434</td>\n",
       "    </tr>\n",
       "    <tr>\n",
       "      <th>201405</th>\n",
       "      <td>703703</td>\n",
       "    </tr>\n",
       "    <tr>\n",
       "      <th>201406</th>\n",
       "      <td>708936</td>\n",
       "    </tr>\n",
       "    <tr>\n",
       "      <th>201407</th>\n",
       "      <td>726544</td>\n",
       "    </tr>\n",
       "    <tr>\n",
       "      <th>201408</th>\n",
       "      <td>660207</td>\n",
       "    </tr>\n",
       "    <tr>\n",
       "      <th>201409</th>\n",
       "      <td>775032</td>\n",
       "    </tr>\n",
       "    <tr>\n",
       "      <th>201410</th>\n",
       "      <td>721896</td>\n",
       "    </tr>\n",
       "    <tr>\n",
       "      <th>201411</th>\n",
       "      <td>583754</td>\n",
       "    </tr>\n",
       "    <tr>\n",
       "      <th>201412</th>\n",
       "      <td>564666</td>\n",
       "    </tr>\n",
       "    <tr>\n",
       "      <th>201501</th>\n",
       "      <td>1051684</td>\n",
       "    </tr>\n",
       "    <tr>\n",
       "      <th>201502</th>\n",
       "      <td>551171</td>\n",
       "    </tr>\n",
       "    <tr>\n",
       "      <th>201503</th>\n",
       "      <td>720835</td>\n",
       "    </tr>\n",
       "    <tr>\n",
       "      <th>201504</th>\n",
       "      <td>695255</td>\n",
       "    </tr>\n",
       "    <tr>\n",
       "      <th>201505</th>\n",
       "      <td>752972</td>\n",
       "    </tr>\n",
       "    <tr>\n",
       "      <th>201506</th>\n",
       "      <td>928704</td>\n",
       "    </tr>\n",
       "    <tr>\n",
       "      <th>201507</th>\n",
       "      <td>660294</td>\n",
       "    </tr>\n",
       "    <tr>\n",
       "      <th>201508</th>\n",
       "      <td>664013</td>\n",
       "    </tr>\n",
       "    <tr>\n",
       "      <th>201509</th>\n",
       "      <td>718435</td>\n",
       "    </tr>\n",
       "    <tr>\n",
       "      <th>201510</th>\n",
       "      <td>843811</td>\n",
       "    </tr>\n",
       "    <tr>\n",
       "      <th>201511</th>\n",
       "      <td>707704</td>\n",
       "    </tr>\n",
       "    <tr>\n",
       "      <th>201512</th>\n",
       "      <td>580039</td>\n",
       "    </tr>\n",
       "    <tr>\n",
       "      <th>201601</th>\n",
       "      <td>636420</td>\n",
       "    </tr>\n",
       "    <tr>\n",
       "      <th>201602</th>\n",
       "      <td>642027</td>\n",
       "    </tr>\n",
       "    <tr>\n",
       "      <th>201603</th>\n",
       "      <td>787795</td>\n",
       "    </tr>\n",
       "    <tr>\n",
       "      <th>201604</th>\n",
       "      <td>695119</td>\n",
       "    </tr>\n",
       "    <tr>\n",
       "      <th>201605</th>\n",
       "      <td>677987</td>\n",
       "    </tr>\n",
       "    <tr>\n",
       "      <th>201606</th>\n",
       "      <td>510794</td>\n",
       "    </tr>\n",
       "    <tr>\n",
       "      <th>201607</th>\n",
       "      <td>532131</td>\n",
       "    </tr>\n",
       "    <tr>\n",
       "      <th>201608</th>\n",
       "      <td>601328</td>\n",
       "    </tr>\n",
       "    <tr>\n",
       "      <th>201609</th>\n",
       "      <td>751661</td>\n",
       "    </tr>\n",
       "    <tr>\n",
       "      <th>201610</th>\n",
       "      <td>755164</td>\n",
       "    </tr>\n",
       "    <tr>\n",
       "      <th>201611</th>\n",
       "      <td>696686</td>\n",
       "    </tr>\n",
       "    <tr>\n",
       "      <th>201612</th>\n",
       "      <td>603808</td>\n",
       "    </tr>\n",
       "    <tr>\n",
       "      <th>201701</th>\n",
       "      <td>691051</td>\n",
       "    </tr>\n",
       "    <tr>\n",
       "      <th>201702</th>\n",
       "      <td>643770</td>\n",
       "    </tr>\n",
       "    <tr>\n",
       "      <th>201703</th>\n",
       "      <td>754070</td>\n",
       "    </tr>\n",
       "    <tr>\n",
       "      <th>201704</th>\n",
       "      <td>682864</td>\n",
       "    </tr>\n",
       "    <tr>\n",
       "      <th>201705</th>\n",
       "      <td>794413</td>\n",
       "    </tr>\n",
       "    <tr>\n",
       "      <th>201706</th>\n",
       "      <td>662496</td>\n",
       "    </tr>\n",
       "    <tr>\n",
       "      <th>201707</th>\n",
       "      <td>291</td>\n",
       "    </tr>\n",
       "    <tr>\n",
       "      <th>201708</th>\n",
       "      <td>242</td>\n",
       "    </tr>\n",
       "    <tr>\n",
       "      <th>201709</th>\n",
       "      <td>310</td>\n",
       "    </tr>\n",
       "    <tr>\n",
       "      <th>201710</th>\n",
       "      <td>241</td>\n",
       "    </tr>\n",
       "    <tr>\n",
       "      <th>201711</th>\n",
       "      <td>290</td>\n",
       "    </tr>\n",
       "    <tr>\n",
       "      <th>201712</th>\n",
       "      <td>283</td>\n",
       "    </tr>\n",
       "  </tbody>\n",
       "</table>\n",
       "</div>"
      ],
      "text/plain": [
       "           Summons Number\n",
       "monthYear                \n",
       "201401             525928\n",
       "201402             479139\n",
       "201403             670085\n",
       "201404             657434\n",
       "201405             703703\n",
       "201406             708936\n",
       "201407             726544\n",
       "201408             660207\n",
       "201409             775032\n",
       "201410             721896\n",
       "201411             583754\n",
       "201412             564666\n",
       "201501            1051684\n",
       "201502             551171\n",
       "201503             720835\n",
       "201504             695255\n",
       "201505             752972\n",
       "201506             928704\n",
       "201507             660294\n",
       "201508             664013\n",
       "201509             718435\n",
       "201510             843811\n",
       "201511             707704\n",
       "201512             580039\n",
       "201601             636420\n",
       "201602             642027\n",
       "201603             787795\n",
       "201604             695119\n",
       "201605             677987\n",
       "201606             510794\n",
       "201607             532131\n",
       "201608             601328\n",
       "201609             751661\n",
       "201610             755164\n",
       "201611             696686\n",
       "201612             603808\n",
       "201701             691051\n",
       "201702             643770\n",
       "201703             754070\n",
       "201704             682864\n",
       "201705             794413\n",
       "201706             662496\n",
       "201707                291\n",
       "201708                242\n",
       "201709                310\n",
       "201710                241\n",
       "201711                290\n",
       "201712                283"
      ]
     },
     "execution_count": 185,
     "metadata": {},
     "output_type": "execute_result"
    }
   ],
   "source": [
    "sort_by_months(citations_per_month.to_frame(), sort_order) "
   ]
  },
  {
   "cell_type": "code",
   "execution_count": 259,
   "metadata": {},
   "outputs": [
    {
     "name": "stdout",
     "output_type": "stream",
     "text": [
      "[########################################] | 100% Completed |  5min 33.0s\n"
     ]
    }
   ],
   "source": [
    "# Listing 6.10 Calculating the correlation between citations and temperature\n",
    "condition = ~nyc_data['monthYear'].isin([f'2017{i:02d}' for i in range(7,13)])\n",
    "nyc_data_filtered = nyc_data[condition]\n",
    "citations_and_temps = nyc_data_filtered.groupby('monthYear').agg({'Summons Number':'count', 'Temp': 'mean'})\n",
    "with ProgressBar():\n",
    "    correlation_matrix = citations_and_temps.corr().compute()"
   ]
  },
  {
   "cell_type": "code",
   "execution_count": 190,
   "metadata": {},
   "outputs": [
    {
     "data": {
      "text/html": [
       "<div>\n",
       "<style scoped>\n",
       "    .dataframe tbody tr th:only-of-type {\n",
       "        vertical-align: middle;\n",
       "    }\n",
       "\n",
       "    .dataframe tbody tr th {\n",
       "        vertical-align: top;\n",
       "    }\n",
       "\n",
       "    .dataframe thead th {\n",
       "        text-align: right;\n",
       "    }\n",
       "</style>\n",
       "<table border=\"1\" class=\"dataframe\">\n",
       "  <thead>\n",
       "    <tr style=\"text-align: right;\">\n",
       "      <th></th>\n",
       "      <th>Summons Number</th>\n",
       "      <th>Temp</th>\n",
       "    </tr>\n",
       "  </thead>\n",
       "  <tbody>\n",
       "    <tr>\n",
       "      <th>Summons Number</th>\n",
       "      <td>1.000000</td>\n",
       "      <td>0.122553</td>\n",
       "    </tr>\n",
       "    <tr>\n",
       "      <th>Temp</th>\n",
       "      <td>0.122553</td>\n",
       "      <td>1.000000</td>\n",
       "    </tr>\n",
       "  </tbody>\n",
       "</table>\n",
       "</div>"
      ],
      "text/plain": [
       "                Summons Number      Temp\n",
       "Summons Number        1.000000  0.122553\n",
       "Temp                  0.122553  1.000000"
      ]
     },
     "execution_count": 190,
     "metadata": {},
     "output_type": "execute_result"
    }
   ],
   "source": [
    "correlation_matrix"
   ]
  },
  {
   "cell_type": "markdown",
   "metadata": {},
   "source": [
    "## 6.3 Custom aggregate functions"
   ]
  },
  {
   "cell_type": "markdown",
   "metadata": {},
   "source": [
    "1. Test for Equal Variances:\n",
    " - Normal distribution (symmetrical and roughly bell shaped):  **Barlett's Test**\n",
    " - Skewed Data: **Brown-Forsythe Test**\n",
    "1. Test for Equal Means:\n",
    " - Equal Variances: **Student's Test**\n",
    " - Unequal Variances: **Welch's Test**\n",
    "\n",
    "### Brown-Forsythe Test\n",
    "By defining $z_{ij} = |y_{ij} - \\tilde{y}_j|$, where $\\tilde{y}_j$ is the median of the group $j$, then we have\n",
    "$$ F = {N-p \\over p-1} { \\Sigma^p_{j=1}n_j(z_{.j} - z_{..})^2 \\over \\Sigma^p_{j=1}\\Sigma^{n_j}_{i=1}(z_{ij} - z_{.j})^2}$$,\n",
    "where $N$ is the total number of smaples, $p$ is the number of groups, $n_j$ is the number of samples in the group $j$, \n",
    "$z_{.j}$ is the mean of $z_{ij}$ in the group $j$ and $z_{..}$ is the total mean of $z_{ij}$.\n",
    "\n",
    "**Under the null hypothesis, $F$ follows the $F$-distribution with DOF $d_1 = p-1$ and $d_2 = N-p$**"
   ]
  },
  {
   "cell_type": "code",
   "execution_count": 197,
   "metadata": {},
   "outputs": [],
   "source": [
    "# Listing 6.11 Setting up the Vehicle Age dataset\n",
    "#nyc_data_with_vehicle_age = dd.read_parquet('nyc_data_vehicleAge', engine='pyarrow')\n",
    "nyc_data_filtered = nyc_data_with_vehicle_age[nyc_data_with_vehicle_age['Plate Type'].isin(['PAS','COM'])]"
   ]
  },
  {
   "cell_type": "code",
   "execution_count": 200,
   "metadata": {
    "collapsed": true,
    "jupyter": {
     "outputs_hidden": true
    }
   },
   "outputs": [
    {
     "name": "stdout",
     "output_type": "stream",
     "text": [
      "[########################################] | 100% Completed |  1min  7.1s\n"
     ]
    }
   ],
   "source": [
    "# Listing 6.12 Calculating the left fraction of the Brown-Forsythe Test\n",
    "with ProgressBar():\n",
    "    #N = nyc_data_filtered['Vehicle Age'].count().compute()\n",
    "    p = nyc_data_filtered['Plate Type'].unique().count().compute()\n",
    "brownForsytheLeft = (N-p)/(p-1)"
   ]
  },
  {
   "cell_type": "code",
   "execution_count": 254,
   "metadata": {},
   "outputs": [],
   "source": [
    "# Listing 6.13 Calculating the median age for each vehicle type\n",
    "passenger_vehicles = nyc_data_filtered[nyc_data_filtered['Plate Type'] == 'PAS']\n",
    "commercial_vehicles = nyc_data_filtered[nyc_data_filtered['Plate Type'] == 'COM']\n",
    "with ProgressBar():\n",
    "    median_PAS = passenger_vehicles['Vehicle Age'].quantile(0.5).compute()\n",
    "    median_COM = commercial_vehicles['Vehicle Age'].quantile(0.5).compute()"
   ]
  },
  {
   "cell_type": "code",
   "execution_count": 210,
   "metadata": {},
   "outputs": [
    {
     "name": "stdout",
     "output_type": "stream",
     "text": [
      "[########################################] | 100% Completed |  1min 17.1s\n",
      "[########################################] | 100% Completed |  1min 12.6s\n"
     ]
    }
   ],
   "source": [
    "with ProgressBar():\n",
    "    describe_PAS = passenger_vehicles['Vehicle Age'].describe().compute()\n",
    "    describe_COM = commercial_vehicles['Vehicle Age'].describe().compute()"
   ]
  },
  {
   "cell_type": "code",
   "execution_count": 216,
   "metadata": {},
   "outputs": [
    {
     "data": {
      "text/plain": [
       "8.5"
      ]
     },
     "execution_count": 216,
     "metadata": {},
     "output_type": "execute_result"
    }
   ],
   "source": [
    "describe_PAS['50%']"
   ]
  },
  {
   "cell_type": "code",
   "execution_count": 212,
   "metadata": {},
   "outputs": [
    {
     "data": {
      "text/plain": [
       "8.5"
      ]
     },
     "execution_count": 212,
     "metadata": {},
     "output_type": "execute_result"
    }
   ],
   "source": [
    "median_PAS"
   ]
  },
  {
   "cell_type": "code",
   "execution_count": 217,
   "metadata": {
    "collapsed": true,
    "jupyter": {
     "outputs_hidden": true
    }
   },
   "outputs": [
    {
     "data": {
      "text/plain": [
       "count    1.947458e+07\n",
       "mean     6.804573e+00\n",
       "std      5.519187e+00\n",
       "min      0.000000e+00\n",
       "25%      4.000000e+00\n",
       "50%      8.500000e+00\n",
       "75%      1.400000e+01\n",
       "max      4.700000e+01\n",
       "Name: Vehicle Age, dtype: float64"
      ]
     },
     "execution_count": 217,
     "metadata": {},
     "output_type": "execute_result"
    }
   ],
   "source": [
    "describe_PAS"
   ]
  },
  {
   "cell_type": "code",
   "execution_count": 225,
   "metadata": {},
   "outputs": [],
   "source": [
    "# Listing 6.14 A function calculate the absolute median deviation\n",
    "medians = {'PAS': describe_PAS['50%'], 'COM': describe_COM['50%']}\n",
    "def absolute_deviation_from_median(row):\n",
    "    return abs(row['Vehicle Age'] - medians[row['Plate Type']])"
   ]
  },
  {
   "cell_type": "code",
   "execution_count": 227,
   "metadata": {},
   "outputs": [],
   "source": [
    "# Listing 6.15 Crate a column of the absolute median differences\n",
    "absolute_deviation = nyc_data_filtered.apply(absolute_deviation_from_median, axis=1, meta=('x', 'float32'))\n",
    "nyc_data_age_type_test_stg1 = nyc_data_filtered.assign(MedianDifference=absolute_deviation)\n",
    "nyc_data_age_type_test = nyc_data_age_type_test_stg1.rename(columns={'MedianDifference': 'Median Difference'})"
   ]
  },
  {
   "cell_type": "code",
   "execution_count": 228,
   "metadata": {},
   "outputs": [
    {
     "name": "stdout",
     "output_type": "stream",
     "text": [
      "[########################################] | 100% Completed | 10min 21.2s\n"
     ]
    }
   ],
   "source": [
    "# Listing 6.16 Calculating the groups means of the median difference\n",
    "with ProgressBar():\n",
    "    groups_means = nyc_data_age_type_test.groupby('Plate Type')['Median Difference'].mean().compute()"
   ]
  },
  {
   "cell_type": "code",
   "execution_count": 230,
   "metadata": {},
   "outputs": [
    {
     "data": {
      "text/plain": [
       "Plate Type\n",
       "COM    4.808053\n",
       "PAS    4.926434\n",
       "Name: Median Difference, dtype: float64"
      ]
     },
     "execution_count": 230,
     "metadata": {},
     "output_type": "execute_result"
    }
   ],
   "source": [
    "groups_means"
   ]
  },
  {
   "cell_type": "code",
   "execution_count": 234,
   "metadata": {},
   "outputs": [],
   "source": [
    "#Listing 6.17 Calculate the group variance\n",
    "def group_mean_variance(row):\n",
    "    return (row['Median Difference'] - groups_means[row['Plate Type']])**2\n",
    "group_mean_variances = nyc_data_age_type_test.apply(group_mean_variance, axis=1, meta=('x', 'float32'))\n",
    "nyc_data_age_type_test_gmv_stg1 = nyc_data_age_type_test.assign(gmv=group_mean_variances)\n",
    "nyc_data_age_type_test_gmv = nyc_data_age_type_test_gmv_stg1.rename(columns={'gmv': 'Group Mean Variance'})"
   ]
  },
  {
   "cell_type": "code",
   "execution_count": 236,
   "metadata": {},
   "outputs": [
    {
     "name": "stdout",
     "output_type": "stream",
     "text": [
      "[########################################] | 100% Completed | 21min  7.5s\n"
     ]
    }
   ],
   "source": [
    "# Listing 6.18 Finishing calculating the right denominator\n",
    "with ProgressBar():\n",
    "    brown_forsythe_right_demoninator = nyc_data_age_type_test_gmv['Group Mean Variance'].sum().compute()"
   ]
  },
  {
   "cell_type": "code",
   "execution_count": 237,
   "metadata": {},
   "outputs": [
    {
     "name": "stdout",
     "output_type": "stream",
     "text": [
      "[########################################] | 100% Completed | 10min 12.2s\n"
     ]
    }
   ],
   "source": [
    "# 6.19 Calculating the grand mean of the Median Difference\n",
    "with ProgressBar():\n",
    "    grand_mean = nyc_data_age_type_test['Median Difference'].mean().compute()"
   ]
  },
  {
   "cell_type": "code",
   "execution_count": 239,
   "metadata": {},
   "outputs": [],
   "source": [
    "# listing 6.20 A custom aggregation for calculating the right numerator\n",
    "brown_forsythe_aggregation = dd.Aggregation('Brown_Forsythe', lambda chunk: (chunk.count(), chunk.sum()), \n",
    "                                           lambda chunk_count, chunk_sum: (chunk_count.sum(), chunk_sum.sum()),\n",
    "                                           lambda group_count, group_sum: group_count*(((group_sum/group_count) - grand_mean)**2)\n",
    "                                          )"
   ]
  },
  {
   "cell_type": "code",
   "execution_count": 240,
   "metadata": {},
   "outputs": [
    {
     "name": "stdout",
     "output_type": "stream",
     "text": [
      "[########################################] | 100% Completed | 10min 25.6s\n"
     ]
    }
   ],
   "source": [
    "# listing 6.21 Using the custom aggregation\n",
    "with ProgressBar():\n",
    "    group_variance = nyc_data_age_type_test.groupby('Plate Type').agg({'Median Difference': brown_forsythe_aggregation}).compute()"
   ]
  },
  {
   "cell_type": "code",
   "execution_count": 250,
   "metadata": {},
   "outputs": [
    {
     "data": {
      "text/plain": [
       "6573.377884776036"
      ]
     },
     "execution_count": 250,
     "metadata": {},
     "output_type": "execute_result"
    }
   ],
   "source": [
    "# listing 6.22 Finishing the right numerator calculation\n",
    "brown_forsythe_right_numerator = group_variance.sum()[0]\n",
    "# listing 6.23 Calculating the F statistic\n",
    "F_statistic = brownForsytheLeft * brown_forsythe_right_numerator/brown_forsythe_right_demoninator\n",
    "F_statistic"
   ]
  },
  {
   "cell_type": "code",
   "execution_count": 252,
   "metadata": {},
   "outputs": [
    {
     "data": {
      "text/plain": [
       "3.841459177055835"
      ]
     },
     "execution_count": 252,
     "metadata": {},
     "output_type": "execute_result"
    }
   ],
   "source": [
    "# listing 6.24 Calculating the F critical value\n",
    "import scipy.stats as stats\n",
    "alpha = 0.05\n",
    "df1 = p - 1\n",
    "df2 = N - p\n",
    "F_critical = stats.f.ppf(q=1-alpha, dfn=df1, dfd=df2)\n",
    "F_critical"
   ]
  },
  {
   "cell_type": "code",
   "execution_count": 255,
   "metadata": {},
   "outputs": [
    {
     "name": "stdout",
     "output_type": "stream",
     "text": [
      "[########################################] | 100% Completed |  1min 13.8s\n",
      "[########################################] | 100% Completed |  1min  8.6s\n"
     ]
    }
   ],
   "source": [
    "# listing 6.26 Colleting an array of values\n",
    "with ProgressBar():\n",
    "    pas = passenger_vehicles['Vehicle Age'].values.compute()\n",
    "    com = commercial_vehicles['Vehicle Age'].values.compute()"
   ]
  },
  {
   "cell_type": "code",
   "execution_count": 256,
   "metadata": {},
   "outputs": [
    {
     "data": {
      "text/plain": [
       "Ttest_indResult(statistic=-282.48265159548777, pvalue=0.0)"
      ]
     },
     "execution_count": 256,
     "metadata": {},
     "output_type": "execute_result"
    }
   ],
   "source": [
    "# listing 6.27 Runing the two-sample test\n",
    "stats.ttest_ind(pas, com, equal_var=False)"
   ]
  },
  {
   "cell_type": "markdown",
   "metadata": {},
   "source": [
    "## 6.4 Rolling (windows) functions\n",
    "Do the number of citations issued over time show any trends or cyclical patterns?"
   ]
  },
  {
   "cell_type": "code",
   "execution_count": 266,
   "metadata": {},
   "outputs": [],
   "source": [
    "# listing 6.28 Preparing data for a rolling function\n",
    "with ProgressBar():\n",
    "    citations_by_month = nyc_data_filtered.groupby(nyc_data_filtered.index)['Summons Number'].count()"
   ]
  },
  {
   "cell_type": "code",
   "execution_count": 267,
   "metadata": {},
   "outputs": [
    {
     "name": "stdout",
     "output_type": "stream",
     "text": [
      "[########################################] | 100% Completed |  5min 41.0s\n"
     ]
    }
   ],
   "source": [
    "# listing 6.29 computing a rolling mean of citations pre month\n",
    "with ProgressBar():\n",
    "    three_month_SMA = citations_by_month.rolling(3).mean().compute()"
   ]
  },
  {
   "cell_type": "code",
   "execution_count": 268,
   "metadata": {
    "collapsed": true,
    "jupyter": {
     "outputs_hidden": true
    }
   },
   "outputs": [
    {
     "data": {
      "text/plain": [
       "Citation Issued Month Year\n",
       "201401              NaN\n",
       "201402              NaN\n",
       "201403    558384.000000\n",
       "201404    602219.333333\n",
       "201405    677074.000000\n",
       "201406    690024.333333\n",
       "201407    713061.000000\n",
       "201408    698562.333333\n",
       "201409    720594.333333\n",
       "201410    719045.000000\n",
       "201411    693560.666667\n",
       "201412    623438.666667\n",
       "201501    733368.000000\n",
       "201502    722507.000000\n",
       "201503    774563.333333\n",
       "201504    655753.666667\n",
       "201505    723020.666667\n",
       "201506    792310.333333\n",
       "201507    780656.666667\n",
       "201508    751003.666667\n",
       "201509    680914.000000\n",
       "201510    742086.333333\n",
       "201511    756650.000000\n",
       "201512    710518.000000\n",
       "201601    641387.666667\n",
       "201602    619495.333333\n",
       "201603    688747.333333\n",
       "201604    708313.666667\n",
       "201605    720300.333333\n",
       "201606    627966.666667\n",
       "201607    573637.333333\n",
       "201608    548084.333333\n",
       "201609    628373.333333\n",
       "201610    702717.666667\n",
       "201611    734503.666667\n",
       "201612    685219.333333\n",
       "201701    663848.333333\n",
       "201702    646209.666667\n",
       "201703    696297.000000\n",
       "201704    693568.000000\n",
       "201705    743782.333333\n",
       "201706    713257.666667\n",
       "Name: Summons Number, dtype: float64"
      ]
     },
     "execution_count": 268,
     "metadata": {},
     "output_type": "execute_result"
    }
   ],
   "source": [
    "three_month_SMA"
   ]
  },
  {
   "cell_type": "code",
   "execution_count": 270,
   "metadata": {},
   "outputs": [
    {
     "name": "stdout",
     "output_type": "stream",
     "text": [
      "[########################################] | 100% Completed |  5min 28.2s\n"
     ]
    },
    {
     "data": {
      "text/plain": [
       "Citation Issued Month Year\n",
       "201401              NaN\n",
       "201402    558384.000000\n",
       "201403    602219.333333\n",
       "201404    677074.000000\n",
       "201405    690024.333333\n",
       "Name: Summons Number, dtype: float64"
      ]
     },
     "execution_count": 270,
     "metadata": {},
     "output_type": "execute_result"
    }
   ],
   "source": [
    "# lisint 6.30 Using a centered window\n",
    "with ProgressBar():\n",
    "    citations_by_month.rolling(3, center=True).mean().head()"
   ]
  },
  {
   "cell_type": "markdown",
   "metadata": {},
   "source": [
    "# Chapter 7 Visualizing DataFrames with Seaborn"
   ]
  },
  {
   "cell_type": "markdown",
   "metadata": {},
   "source": [
    "## 7.2 Visualizing continuous relationships with scatterplot and regplot"
   ]
  },
  {
   "cell_type": "code",
   "execution_count": 272,
   "metadata": {},
   "outputs": [
    {
     "name": "stdout",
     "output_type": "stream",
     "text": [
      "[########################################] | 100% Completed |  5min 34.5s\n"
     ]
    },
    {
     "data": {
      "text/plain": [
       "<matplotlib.axes._subplots.AxesSubplot at 0x1b6e2dd68>"
      ]
     },
     "execution_count": 272,
     "metadata": {},
     "output_type": "execute_result"
    },
    {
     "name": "stderr",
     "output_type": "stream",
     "text": [
      "/Library/Frameworks/Python.framework/Versions/3.6/lib/python3.6/site-packages/matplotlib/axes/_base.py:3604: MatplotlibDeprecationWarning: \n",
      "The `ymin` argument was deprecated in Matplotlib 3.0 and will be removed in 3.2. Use `bottom` instead.\n",
      "  alternative='`bottom`', obj_type='argument')\n"
     ]
    },
    {
     "data": {
      "text/plain": [
       "(0, 1080311.2506677706)"
      ]
     },
     "execution_count": 272,
     "metadata": {},
     "output_type": "execute_result"
    },
    {
     "name": "stderr",
     "output_type": "stream",
     "text": [
      "/Library/Frameworks/Python.framework/Versions/3.6/lib/python3.6/site-packages/matplotlib/axes/_base.py:3215: MatplotlibDeprecationWarning: \n",
      "The `xmin` argument was deprecated in Matplotlib 3.0 and will be removed in 3.2. Use `left` instead.\n",
      "  alternative='`left`', obj_type='argument')\n"
     ]
    },
    {
     "data": {
      "text/plain": [
       "(0, 81.95565053818156)"
      ]
     },
     "execution_count": 272,
     "metadata": {},
     "output_type": "execute_result"
    },
    {
     "data": {
      "image/png": "[encoded data removed]",
      "text/plain": [
       "<Figure size 720x720 with 1 Axes>"
      ]
     },
     "metadata": {},
     "output_type": "display_data"
    }
   ],
   "source": [
    "# Lisint 7.3 Colleting and plotting the data\n",
    "seaborn.set(style='whitegrid')\n",
    "f, ax = plt.subplots(figsize=(10,10))\n",
    "seaborn.despine(f, left=True, bottom=True)\n",
    "with ProgressBar():\n",
    "    seaborn.scatterplot(x='Temp', y='Summons Number', data=citations_and_temps.compute(), ax=ax)\n",
    "    plt.ylim(ymin=0)\n",
    "    plt.xlim(xmin=0)"
   ]
  },
  {
   "cell_type": "code",
   "execution_count": 273,
   "metadata": {},
   "outputs": [
    {
     "name": "stdout",
     "output_type": "stream",
     "text": [
      "[########################################] | 100% Completed |  5min 33.4s\n"
     ]
    },
    {
     "data": {
      "text/plain": [
       "<matplotlib.axes._subplots.AxesSubplot at 0x29414b828>"
      ]
     },
     "execution_count": 273,
     "metadata": {},
     "output_type": "execute_result"
    },
    {
     "name": "stderr",
     "output_type": "stream",
     "text": [
      "/Library/Frameworks/Python.framework/Versions/3.6/lib/python3.6/site-packages/matplotlib/axes/_base.py:3604: MatplotlibDeprecationWarning: \n",
      "The `ymin` argument was deprecated in Matplotlib 3.0 and will be removed in 3.2. Use `bottom` instead.\n",
      "  alternative='`bottom`', obj_type='argument')\n"
     ]
    },
    {
     "data": {
      "text/plain": [
       "(0, 1080768.7017535216)"
      ]
     },
     "execution_count": 273,
     "metadata": {},
     "output_type": "execute_result"
    },
    {
     "name": "stderr",
     "output_type": "stream",
     "text": [
      "/Library/Frameworks/Python.framework/Versions/3.6/lib/python3.6/site-packages/matplotlib/axes/_base.py:3215: MatplotlibDeprecationWarning: \n",
      "The `xmin` argument was deprecated in Matplotlib 3.0 and will be removed in 3.2. Use `left` instead.\n",
      "  alternative='`left`', obj_type='argument')\n"
     ]
    },
    {
     "data": {
      "text/plain": [
       "(0, 81.99106301898041)"
      ]
     },
     "execution_count": 273,
     "metadata": {},
     "output_type": "execute_result"
    },
    {
     "data": {
      "image/png": "[encoded data removed]",
      "text/plain": [
       "<Figure size 720x720 with 1 Axes>"
      ]
     },
     "metadata": {},
     "output_type": "display_data"
    }
   ],
   "source": [
    "# Listing 7.4 Adding a regression line to a scatterplot using regplot\n",
    "seaborn.set(style='whitegrid')\n",
    "f, ax = plt.subplots(figsize=(10,10))\n",
    "seaborn.despine(f, left=True, bottom=True)\n",
    "with ProgressBar():\n",
    "    seaborn.regplot(x='Temp', y='Summons Number', data=citations_and_temps.compute(), ax=ax, robust=True)\n",
    "    plt.ylim(ymin=0)\n",
    "    plt.xlim(xmin=0)"
   ]
  },
  {
   "cell_type": "code",
   "execution_count": 275,
   "metadata": {},
   "outputs": [
    {
     "name": "stdout",
     "output_type": "stream",
     "text": [
      "[########################################] | 100% Completed |  5min 41.5s\n"
     ]
    },
    {
     "data": {
      "text/plain": [
       "<matplotlib.axes._subplots.AxesSubplot at 0x291bd94e0>"
      ]
     },
     "execution_count": 275,
     "metadata": {},
     "output_type": "execute_result"
    },
    {
     "name": "stderr",
     "output_type": "stream",
     "text": [
      "/Library/Frameworks/Python.framework/Versions/3.6/lib/python3.6/site-packages/matplotlib/axes/_base.py:3604: MatplotlibDeprecationWarning: \n",
      "The `ymin` argument was deprecated in Matplotlib 3.0 and will be removed in 3.2. Use `bottom` instead.\n",
      "  alternative='`bottom`', obj_type='argument')\n"
     ]
    },
    {
     "data": {
      "text/plain": [
       "(0, 1086635.1455312395)"
      ]
     },
     "execution_count": 275,
     "metadata": {},
     "output_type": "execute_result"
    },
    {
     "name": "stderr",
     "output_type": "stream",
     "text": [
      "/Library/Frameworks/Python.framework/Versions/3.6/lib/python3.6/site-packages/matplotlib/axes/_base.py:3215: MatplotlibDeprecationWarning: \n",
      "The `xmin` argument was deprecated in Matplotlib 3.0 and will be removed in 3.2. Use `left` instead.\n",
      "  alternative='`left`', obj_type='argument')\n"
     ]
    },
    {
     "data": {
      "text/plain": [
       "(0, 81.99106301898041)"
      ]
     },
     "execution_count": 275,
     "metadata": {},
     "output_type": "execute_result"
    },
    {
     "data": {
      "image/png": "[encoded data removed]",
      "text/plain": [
       "<Figure size 720x720 with 1 Axes>"
      ]
     },
     "metadata": {},
     "output_type": "display_data"
    }
   ],
   "source": [
    "# Listing 7.5 Fitting a nonlinear curve to a dataset\n",
    "seaborn.set(style='whitegrid')\n",
    "f, ax = plt.subplots(figsize=(10,10))\n",
    "seaborn.despine(f, left=True, bottom=True)\n",
    "with ProgressBar():\n",
    "    seaborn.regplot(x='Temp', y='Summons Number', data=citations_and_temps.compute(), ax=ax, order=2)\n",
    "    plt.ylim(ymin=0)\n",
    "    plt.xlim(xmin=0)"
   ]
  },
  {
   "cell_type": "markdown",
   "metadata": {},
   "source": [
    "## 7.3 Visualizing categorical relationships with violinplot "
   ]
  },
  {
   "cell_type": "code",
   "execution_count": 276,
   "metadata": {},
   "outputs": [],
   "source": [
    "# Listing 7.6 Reading in and filtering the data\n",
    "row_filter = nyc_data_with_vehicle_age['Vehicle Color'].isin(['BLACK', 'WHITE', 'GREY', 'RED', 'GREEN', 'BLUE'])\n",
    "col_filter = ['Vehicle Age', 'Vehicle Color']\n",
    "ages_and_colors = nyc_data_with_vehicle_age[row_filter][col_filter]"
   ]
  },
  {
   "cell_type": "code",
   "execution_count": 277,
   "metadata": {},
   "outputs": [
    {
     "name": "stdout",
     "output_type": "stream",
     "text": [
      "[########################################] | 100% Completed |  1min  5.4s\n",
      "Vehicle Age      4971199\n",
      "Vehicle Color    4971199\n",
      "dtype: int64\n"
     ]
    }
   ],
   "source": [
    "# Lisint 7.7 Counting the observations\n",
    "with ProgressBar():\n",
    "    print(ages_and_colors.count().compute())"
   ]
  },
  {
   "cell_type": "code",
   "execution_count": 280,
   "metadata": {},
   "outputs": [
    {
     "name": "stdout",
     "output_type": "stream",
     "text": [
      "[########################################] | 100% Completed |  1min  2.9s\n"
     ]
    },
    {
     "data": {
      "text/plain": [
       "<matplotlib.axes._subplots.AxesSubplot at 0x1714a5ac8>"
      ]
     },
     "execution_count": 280,
     "metadata": {},
     "output_type": "execute_result"
    },
    {
     "data": {
      "image/png": "[encoded data removed]",
      "text/plain": [
       "<Figure size 720x720 with 1 Axes>"
      ]
     },
     "metadata": {},
     "output_type": "display_data"
    }
   ],
   "source": [
    "# Lisint 7.8 Creating the violinplot\n",
    "seaborn.set(style='whitegrid')\n",
    "f, ax = plt.subplots(figsize=(10, 10))\n",
    "seaborn.despine(f, left=True, bottom=True)\n",
    "group_order = ['RED', 'GREEN', 'BLUE', 'BLACK', 'WHITE', 'GREY']\n",
    "with ProgressBar():\n",
    "    seaborn.violinplot(x='Vehicle Color', y='Vehicle Age', data=ages_and_colors.compute(), order=group_order,\n",
    "                       palette=group_order, ax=ax)"
   ]
  },
  {
   "cell_type": "code",
   "execution_count": 281,
   "metadata": {},
   "outputs": [
    {
     "name": "stdout",
     "output_type": "stream",
     "text": [
      "[########################################] | 100% Completed |  1min  1.2s\n"
     ]
    },
    {
     "data": {
      "text/plain": [
       "<matplotlib.axes._subplots.AxesSubplot at 0x277b2d748>"
      ]
     },
     "execution_count": 281,
     "metadata": {},
     "output_type": "execute_result"
    },
    {
     "data": {
      "image/png": "[encoded data removed]",
      "text/plain": [
       "<Figure size 720x720 with 1 Axes>"
      ]
     },
     "metadata": {},
     "output_type": "display_data"
    }
   ],
   "source": [
    "# Lisint 7.9 Sampling the filtered DF\n",
    "sample = ages_and_colors.sample(frac=0.1)\n",
    "\n",
    "seaborn.set(style='whitegrid')\n",
    "f, ax = plt.subplots(figsize=(10, 10))\n",
    "seaborn.despine(f, left=True, bottom=True)\n",
    "group_order = ['RED', 'GREEN', 'BLUE', 'BLACK', 'WHITE', 'GREY']\n",
    "with ProgressBar():\n",
    "    seaborn.violinplot(x='Vehicle Color', y='Vehicle Age', data=sample.compute(), order=group_order,\n",
    "                       palette=group_order, ax=ax)"
   ]
  },
  {
   "cell_type": "markdown",
   "metadata": {},
   "source": [
    "## 7.4 Visualizing two categorical relationships with heatmap"
   ]
  },
  {
   "cell_type": "code",
   "execution_count": 7,
   "metadata": {},
   "outputs": [],
   "source": [
    "# Listing 7.10 Extracting month of year and the day of week\n",
    "nyc_data_filtered = nyc_data_with_vehicle_age[nyc_data_with_vehicle_age['Issue Date'] < datetime(2017,1,1,)]\n",
    "day_of_week = nyc_data_filtered['Issue Date'].apply(lambda x: x.strftime('%A'), meta=str)\n",
    "month_of_year = nyc_data_filtered['Issue Date'].apply(lambda x: x.strftime('%B'), meta=str)\n",
    "\n",
    "# Lising 7.11 Adding the columns back to DF\n",
    "nyc_data_with_dates_raw = nyc_data_filtered.assign(DayOfWeek=day_of_week).assign(MonthOfYear=month_of_year)\n",
    "column_map = {'DayOfWeek': 'Day of Week', 'MonthOfYear': 'Month of Year'}\n",
    "nyc_data_with_dates = nyc_data_with_dates_raw.rename(columns=column_map)"
   ]
  },
  {
   "cell_type": "code",
   "execution_count": 8,
   "metadata": {},
   "outputs": [
    {
     "name": "stdout",
     "output_type": "stream",
     "text": [
      "[########################################] | 100% Completed |  8min 31.0s\n"
     ]
    }
   ],
   "source": [
    "# Lising 7.12 Counting the citations of month of year and day of week\n",
    "with ProgressBar():\n",
    "    summons_by_mydw = nyc_data_with_dates.groupby(['Day of Week', 'Month of Year']).count().compute()"
   ]
  },
  {
   "cell_type": "code",
   "execution_count": 9,
   "metadata": {},
   "outputs": [],
   "source": [
    "# Listing 7.13 Transforming the result into a pivot table\n",
    "heat_map_data = summons_by_mydw.reset_index().pivot('Month of Year', 'Day of Week', 'Summons Number')"
   ]
  },
  {
   "cell_type": "code",
   "execution_count": 30,
   "metadata": {},
   "outputs": [
    {
     "data": {
      "text/plain": [
       "<matplotlib.axes._subplots.AxesSubplot at 0x130d022e8>"
      ]
     },
     "execution_count": 30,
     "metadata": {},
     "output_type": "execute_result"
    },
    {
     "data": {
      "image/png": "[encoded data removed]",
      "text/plain": [
       "<Figure size 720x720 with 2 Axes>"
      ]
     },
     "metadata": {
      "needs_background": "light"
     },
     "output_type": "display_data"
    }
   ],
   "source": [
    "# Lisint 7.14 Creating the heatmap\n",
    "months = ['January','February','March','April','May','June','July', 'August','September','October','November','December']\n",
    "weekdays = ['Monday','Tuesday','Wednesday','Thursday','Friday','Saturday','Sunday']\n",
    "f, ax = plt.subplots(figsize=(10, 10))\n",
    "seaborn.heatmap(heat_map_data.loc[months,weekdays], annot=True, fmt=\"d\", linewidths=1, ax=ax, cmap='Greys')"
   ]
  },
  {
   "cell_type": "code",
   "execution_count": 12,
   "metadata": {},
   "outputs": [],
   "source": [
    "uniform_data = np.random.rand(10, 12)"
   ]
  },
  {
   "cell_type": "code",
   "execution_count": 16,
   "metadata": {},
   "outputs": [
    {
     "data": {
      "text/plain": [
       "(10, 12)"
      ]
     },
     "execution_count": 16,
     "metadata": {},
     "output_type": "execute_result"
    }
   ],
   "source": [
    "uniform_data.shape"
   ]
  },
  {
   "cell_type": "code",
   "execution_count": null,
   "metadata": {},
   "outputs": [],
   "source": []
  }
 ],
 "metadata": {
  "kernelspec": {
   "display_name": "Python 3",
   "language": "python",
   "name": "python3"
  },
  "language_info": {
   "codemirror_mode": {
    "name": "ipython",
    "version": 3
   },
   "file_extension": ".py",
   "mimetype": "text/x-python",
   "name": "python",
   "nbconvert_exporter": "python",
   "pygments_lexer": "ipython3",
   "version": "3.6.7"
  }
 },
 "nbformat": 4,
 "nbformat_minor": 4
}
